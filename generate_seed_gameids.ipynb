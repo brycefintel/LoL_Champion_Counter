{
 "cells": [
  {
   "cell_type": "code",
   "execution_count": 2,
   "metadata": {
    "collapsed": true
   },
   "outputs": [],
   "source": [
    "from collections import defaultdict\n",
    "import json\n",
    "from pprint import pprint\n",
    "import pandas as pd\n",
    "import numpy as np\n",
    "import requests\n",
    "import time\n",
    "import pickle"
   ]
  },
  {
   "cell_type": "code",
   "execution_count": null,
   "metadata": {
    "collapsed": true
   },
   "outputs": [],
   "source": []
  },
  {
   "cell_type": "markdown",
   "metadata": {},
   "source": [
    "## Read through starter data and pull out 1,000 gameIds"
   ]
  },
  {
   "cell_type": "code",
   "execution_count": 3,
   "metadata": {
    "collapsed": true
   },
   "outputs": [],
   "source": [
    "gameIds=[]\n",
    "gameIds_set=set()pickle.load( open( \"starter_gameids.p\", \"rb\" ) )\n",
    "\n",
    "for num in range(1,11):\n",
    "    url=\"https://s3-us-west-1.amazonaws.com/riot-developer-portal/seed-data/matches\"+str(num)+\".json\"\n",
    "    games100=requests.get(url).json()\n",
    "    for match in games100[\"matches\"]:\n",
    "        gameIds.append(match[\"gameId\"])\n",
    "        gameIds_set.add(match[\"gameId\"])"
   ]
  },
  {
   "cell_type": "code",
   "execution_count": 4,
   "metadata": {
    "scrolled": true
   },
   "outputs": [
    {
     "data": {
      "text/plain": [
       "(1000, 1000)"
      ]
     },
     "execution_count": 4,
     "metadata": {},
     "output_type": "execute_result"
    }
   ],
   "source": [
    "len(gameIds), len(gameIds_set)"
   ]
  },
  {
   "cell_type": "code",
   "execution_count": 6,
   "metadata": {
    "collapsed": true
   },
   "outputs": [],
   "source": [
    "pickle.dump( gameIds, open( \"starter_gameids.p\", \"wb\" ) )"
   ]
  },
  {
   "cell_type": "code",
   "execution_count": 13,
   "metadata": {
    "collapsed": true
   },
   "outputs": [],
   "source": [
    "gameIds = pickle.load( open( \"starter_gameids.p\", \"rb\" ) )"
   ]
  },
  {
   "cell_type": "code",
   "execution_count": 14,
   "metadata": {},
   "outputs": [
    {
     "data": {
      "text/plain": [
       "[218739531,\n",
       " 32286644,\n",
       " 36991143,\n",
       " 201694529,\n",
       " 48591434,\n",
       " 50650413,\n",
       " 239003617,\n",
       " 43053794,\n",
       " 36542700,\n",
       " 47191301]"
      ]
     },
     "execution_count": 14,
     "metadata": {},
     "output_type": "execute_result"
    }
   ],
   "source": [
    "gameIds[:10]"
   ]
  },
  {
   "cell_type": "code",
   "execution_count": 76,
   "metadata": {
    "collapsed": true
   },
   "outputs": [],
   "source": [
    "test_api=gameIds[:50]"
   ]
  },
  {
   "cell_type": "markdown",
   "metadata": {},
   "source": [
    "## Use GameIds to make api calls to lookup 10,000 playerIds in those games \n",
    "## (15 min)"
   ]
  },
  {
   "cell_type": "code",
   "execution_count": 79,
   "metadata": {
    "scrolled": true
   },
   "outputs": [
    {
     "name": "stdout",
     "output_type": "stream",
     "text": [
      "sleeping_120\n",
      "sleeping_120\n",
      "sleeping_120\n",
      "sleeping_120\n",
      "sleeping_120\n",
      "sleeping_120\n",
      "sleeping_120\n",
      "sleeping_120\n",
      "sleeping_120\n",
      "sleeping_120\n",
      "sleeping_120\n",
      "sleeping_120\n"
     ]
    }
   ],
   "source": [
    "player_ids=[]\n",
    "player_ids_set=set()\n",
    "for iteration, match_id in enumerate(gameIds):\n",
    "    if iteration%90==0:\n",
    "        print \"sleeping_120\"\n",
    "        time.sleep(120)\n",
    "    url=\"https://na1.api.riotgames.com/lol/match/v3/matches/\"+str(match_id)+\"?api_key=RGAPI-da753f35-bac0-4dac-b922-a06d54d10b94\"\n",
    "    match=requests.get(url).json()\n",
    "    for player in match[\"participantIdentities\"]:\n",
    "        player_ids.append(player[\"player\"][\"currentAccountId\"])\n",
    "        player_ids_set.add(player[\"player\"][\"currentAccountId\"])\n",
    "    \n",
    "    "
   ]
  },
  {
   "cell_type": "code",
   "execution_count": 80,
   "metadata": {},
   "outputs": [
    {
     "data": {
      "text/plain": [
       "(10000, 9971)"
      ]
     },
     "execution_count": 80,
     "metadata": {},
     "output_type": "execute_result"
    }
   ],
   "source": [
    "len(player_ids), len(player_ids_set)"
   ]
  },
  {
   "cell_type": "code",
   "execution_count": 161,
   "metadata": {
    "collapsed": true
   },
   "outputs": [],
   "source": [
    "pickle.dump( player_ids, open( \"10,000_playerIds.p\", \"wb\" ) )"
   ]
  },
  {
   "cell_type": "code",
   "execution_count": 162,
   "metadata": {
    "collapsed": true
   },
   "outputs": [],
   "source": [
    "pickle.dump( player_ids_set, open( \"10,000_playerIds_set.p\", \"wb\" ) )"
   ]
  },
  {
   "cell_type": "code",
   "execution_count": null,
   "metadata": {
    "collapsed": true
   },
   "outputs": [],
   "source": []
  },
  {
   "cell_type": "code",
   "execution_count": 4,
   "metadata": {
    "collapsed": true
   },
   "outputs": [],
   "source": [
    "player_ids = pickle.load( open( \"10,000_playerIds.p\", \"rb\" ) )\n",
    "player_ids_set = pickle.load( open( \"10,000_playerIds_set.p\", \"rb\" ) )"
   ]
  },
  {
   "cell_type": "code",
   "execution_count": 5,
   "metadata": {},
   "outputs": [
    {
     "data": {
      "text/plain": [
       "9971"
      ]
     },
     "execution_count": 5,
     "metadata": {},
     "output_type": "execute_result"
    }
   ],
   "source": [
    "len(player_ids_set)"
   ]
  },
  {
   "cell_type": "code",
   "execution_count": 8,
   "metadata": {
    "collapsed": true
   },
   "outputs": [],
   "source": [
    "with open(\"10000playerIds.txt\", \"w\") as f:\n",
    "    f.write(str(list(player_ids_set)))"
   ]
  },
  {
   "cell_type": "code",
   "execution_count": 120,
   "metadata": {},
   "outputs": [
    {
     "data": {
      "text/plain": [
       "[218739531,\n",
       " 32286644,\n",
       " 36991143,\n",
       " 201694529,\n",
       " 48591434,\n",
       " 50650413,\n",
       " 239003617,\n",
       " 43053794,\n",
       " 36542700,\n",
       " 47191301]"
      ]
     },
     "execution_count": 120,
     "metadata": {},
     "output_type": "execute_result"
    }
   ],
   "source": [
    "test_api=player_ids[:10]\n",
    "test_api"
   ]
  },
  {
   "cell_type": "markdown",
   "metadata": {},
   "source": [
    "## Lookup recent 20 games for each player and store 2,000,000 gameIds\n",
    "## (3 hours?)"
   ]
  },
  {
   "cell_type": "code",
   "execution_count": 4,
   "metadata": {},
   "outputs": [
    {
     "name": "stdout",
     "output_type": "stream",
     "text": [
      "sleeping_120\n",
      "sleeping_120\n",
      "sleeping_120\n",
      "sleeping_120\n",
      "sleeping_120\n",
      "sleeping_120\n",
      "sleeping_120\n",
      "sleeping_120\n",
      "sleeping_120\n",
      "sleeping_120\n",
      "sleeping_120\n",
      "sleeping_120\n",
      "sleeping_120\n",
      "sleeping_120\n",
      "sleeping_120\n",
      "sleeping_120\n",
      "sleeping_120\n",
      "sleeping_120\n",
      "sleeping_120\n",
      "sleeping_120\n",
      "writing backup file\n"
     ]
    },
    {
     "ename": "NameError",
     "evalue": "name 'write_list_to_file' is not defined",
     "output_type": "error",
     "traceback": [
      "\u001b[0;31m---------------------------------------------------------------------------\u001b[0m",
      "\u001b[0;31mNameError\u001b[0m                                 Traceback (most recent call last)",
      "\u001b[0;32m<ipython-input-4-820441e160e5>\u001b[0m in \u001b[0;36m<module>\u001b[0;34m()\u001b[0m\n\u001b[1;32m      9\u001b[0m     \u001b[0;32mif\u001b[0m \u001b[0;34m(\u001b[0m\u001b[0miteration\u001b[0m\u001b[0;34m+\u001b[0m\u001b[0;36m1\u001b[0m\u001b[0;34m)\u001b[0m\u001b[0;34m%\u001b[0m\u001b[0;36m2000\u001b[0m\u001b[0;34m==\u001b[0m\u001b[0;36m0\u001b[0m\u001b[0;34m:\u001b[0m\u001b[0;34m\u001b[0m\u001b[0m\n\u001b[1;32m     10\u001b[0m         \u001b[0;32mprint\u001b[0m \u001b[0;34m\"writing backup file\"\u001b[0m\u001b[0;34m\u001b[0m\u001b[0m\n\u001b[0;32m---> 11\u001b[0;31m         \u001b[0mwrite_list_to_file\u001b[0m\u001b[0;34m(\u001b[0m\u001b[0mbig_bad_list_of_gameIds\u001b[0m\u001b[0;34m,\u001b[0m \u001b[0mbig_bad_list\u001b[0m\u001b[0;34m)\u001b[0m\u001b[0;34m\u001b[0m\u001b[0m\n\u001b[0m\u001b[1;32m     12\u001b[0m     \u001b[0murl\u001b[0m\u001b[0;34m=\u001b[0m\u001b[0;34m\"https://na1.api.riotgames.com/lol/match/v3/matchlists/by-account/\"\u001b[0m\u001b[0;34m+\u001b[0m\u001b[0mstr\u001b[0m\u001b[0;34m(\u001b[0m\u001b[0mplayerId\u001b[0m\u001b[0;34m)\u001b[0m\u001b[0;34m+\u001b[0m\u001b[0;34m\"/recent?api_key=RGAPI-da753f35-bac0-4dac-b922-a06d54d10b94\"\u001b[0m\u001b[0;34m\u001b[0m\u001b[0m\n\u001b[1;32m     13\u001b[0m     \u001b[0mmatch_history\u001b[0m\u001b[0;34m=\u001b[0m\u001b[0mrequests\u001b[0m\u001b[0;34m.\u001b[0m\u001b[0mget\u001b[0m\u001b[0;34m(\u001b[0m\u001b[0murl\u001b[0m\u001b[0;34m)\u001b[0m\u001b[0;34m.\u001b[0m\u001b[0mjson\u001b[0m\u001b[0;34m(\u001b[0m\u001b[0;34m)\u001b[0m\u001b[0;34m\u001b[0m\u001b[0m\n",
      "\u001b[0;31mNameError\u001b[0m: name 'write_list_to_file' is not defined"
     ]
    }
   ],
   "source": [
    "big_bad_list_of_gameIds=[]\n",
    "big_bad_set_of_gameIds=set()\n",
    "for iteration, playerId in enumerate(player_ids_set):\n",
    "    if (iteration+1)%17==0:\n",
    "        time.sleep(1)\n",
    "    if (iteration+1)%97==0:\n",
    "        print \"sleeping_120\"\n",
    "        time.sleep(120)\n",
    "    if (iteration+1)%2000==0:\n",
    "        print \"writing backup file\"\n",
    "        write_list_to_file(big_bad_list_of_gameIds, big_bad_list)\n",
    "    url=\"https://na1.api.riotgames.com/lol/match/v3/matchlists/by-account/\"+str(playerId)+\"/recent?api_key=RGAPI-da753f35-bac0-4dac-b922-a06d54d10b94\"\n",
    "    match_history=requests.get(url).json()\n",
    "    for match in match_history[\"matches\"]:\n",
    "        big_bad_list_of_gameIds.append(match[\"gameId\"])\n",
    "        big_bad_set_of_gameIds.add(match[\"gameId\"])"
   ]
  },
  {
   "cell_type": "code",
   "execution_count": null,
   "metadata": {
    "collapsed": true
   },
   "outputs": [],
   "source": []
  },
  {
   "cell_type": "code",
   "execution_count": null,
   "metadata": {
    "collapsed": true
   },
   "outputs": [],
   "source": []
  },
  {
   "cell_type": "code",
   "execution_count": null,
   "metadata": {
    "collapsed": true
   },
   "outputs": [],
   "source": []
  },
  {
   "cell_type": "code",
   "execution_count": 124,
   "metadata": {
    "scrolled": true
   },
   "outputs": [
    {
     "data": {
      "text/plain": [
       "(200, 199)"
      ]
     },
     "execution_count": 124,
     "metadata": {},
     "output_type": "execute_result"
    }
   ],
   "source": [
    "len(big_bad_list_of_gameIds), len(big_bad_set_of_gameIds)"
   ]
  },
  {
   "cell_type": "code",
   "execution_count": 150,
   "metadata": {},
   "outputs": [
    {
     "name": "stdout",
     "output_type": "stream",
     "text": [
      "hit\n",
      "hit\n",
      "hit\n",
      "hit\n"
     ]
    }
   ],
   "source": [
    "bigbad=[]\n",
    "for x in range(200):\n",
    "    bigbad.append(x)\n",
    "    if (x+1)%50==0:\n",
    "        print \"hit\"\n",
    "        with open(\"big_bad_list\", \"a\") as f:\n",
    "            f.write(str(bigbad))\n",
    "            f.write(\"\\n\")\n",
    "            f.write(\"\\n\")\n"
   ]
  },
  {
   "cell_type": "code",
   "execution_count": 152,
   "metadata": {
    "collapsed": true
   },
   "outputs": [],
   "source": [
    "def write_list_to_file(list_to_write,file_to_store):\n",
    "    with open(str(file_to_store), \"a\") as f:\n",
    "        f.write(str(list_to_write))\n",
    "        f.write(\"\\n\")\n",
    "        f.write(\"\\n\")"
   ]
  },
  {
   "cell_type": "code",
   "execution_count": null,
   "metadata": {
    "collapsed": true
   },
   "outputs": [],
   "source": []
  },
  {
   "cell_type": "code",
   "execution_count": null,
   "metadata": {
    "collapsed": true
   },
   "outputs": [],
   "source": []
  }
 ],
 "metadata": {
  "kernelspec": {
   "display_name": "Python 2",
   "language": "python",
   "name": "python2"
  },
  "language_info": {
   "codemirror_mode": {
    "name": "ipython",
    "version": 2
   },
   "file_extension": ".py",
   "mimetype": "text/x-python",
   "name": "python",
   "nbconvert_exporter": "python",
   "pygments_lexer": "ipython2",
   "version": "2.7.13"
  }
 },
 "nbformat": 4,
 "nbformat_minor": 2
}
