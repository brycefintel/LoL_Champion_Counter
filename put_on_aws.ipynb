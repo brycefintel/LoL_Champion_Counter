{
 "cells": [
  {
   "cell_type": "code",
   "execution_count": 5,
   "metadata": {
    "collapsed": true
   },
   "outputs": [
    {
     "name": "stdout",
     "output_type": "stream",
     "text": [
      "https://na1.api.riotgames.com/lol/match/v3/matchlists/by-account/35684353/recent?api_key=RGAPI-e2f8f2eb-8240-4afe-9c00-aaa14abc5363\n",
      "[u'matches', u'endIndex', u'startIndex', u'totalGames']\n",
      "https://na1.api.riotgames.com/lol/match/v3/matchlists/by-account/225804290/recent?api_key=RGAPI-e2f8f2eb-8240-4afe-9c00-aaa14abc5363\n",
      "[u'matches', u'endIndex', u'startIndex', u'totalGames']\n",
      "https://na1.api.riotgames.com/lol/match/v3/matchlists/by-account/200572937/recent?api_key=RGAPI-e2f8f2eb-8240-4afe-9c00-aaa14abc5363\n",
      "[u'matches', u'endIndex', u'startIndex', u'totalGames']\n",
      "https://na1.api.riotgames.com/lol/match/v3/matchlists/by-account/230719499/recent?api_key=RGAPI-e2f8f2eb-8240-4afe-9c00-aaa14abc5363\n",
      "[u'matches', u'endIndex', u'startIndex', u'totalGames']\n",
      "https://na1.api.riotgames.com/lol/match/v3/matchlists/by-account/203292684/recent?api_key=RGAPI-e2f8f2eb-8240-4afe-9c00-aaa14abc5363\n",
      "[u'matches', u'endIndex', u'startIndex', u'totalGames']\n",
      "https://na1.api.riotgames.com/lol/match/v3/matchlists/by-account/47972365/recent?api_key=RGAPI-e2f8f2eb-8240-4afe-9c00-aaa14abc5363\n",
      "[u'matches', u'endIndex', u'startIndex', u'totalGames']\n",
      "https://na1.api.riotgames.com/lol/match/v3/matchlists/by-account/232652816/recent?api_key=RGAPI-e2f8f2eb-8240-4afe-9c00-aaa14abc5363\n",
      "[u'matches', u'endIndex', u'startIndex', u'totalGames']\n",
      "https://na1.api.riotgames.com/lol/match/v3/matchlists/by-account/201719829/recent?api_key=RGAPI-e2f8f2eb-8240-4afe-9c00-aaa14abc5363\n",
      "[u'matches', u'endIndex', u'startIndex', u'totalGames']\n",
      "https://na1.api.riotgames.com/lol/match/v3/matchlists/by-account/44335126/recent?api_key=RGAPI-e2f8f2eb-8240-4afe-9c00-aaa14abc5363\n",
      "[u'matches', u'endIndex', u'startIndex', u'totalGames']\n",
      "https://na1.api.riotgames.com/lol/match/v3/matchlists/by-account/38895640/recent?api_key=RGAPI-e2f8f2eb-8240-4afe-9c00-aaa14abc5363\n",
      "[u'matches', u'endIndex', u'startIndex', u'totalGames']\n",
      "https://na1.api.riotgames.com/lol/match/v3/matchlists/by-account/213647388/recent?api_key=RGAPI-e2f8f2eb-8240-4afe-9c00-aaa14abc5363\n",
      "[u'matches', u'endIndex', u'startIndex', u'totalGames']\n",
      "https://na1.api.riotgames.com/lol/match/v3/matchlists/by-account/227704872/recent?api_key=RGAPI-e2f8f2eb-8240-4afe-9c00-aaa14abc5363\n",
      "[u'matches', u'endIndex', u'startIndex', u'totalGames']\n",
      "https://na1.api.riotgames.com/lol/match/v3/matchlists/by-account/233472042/recent?api_key=RGAPI-e2f8f2eb-8240-4afe-9c00-aaa14abc5363\n",
      "[u'matches', u'endIndex', u'startIndex', u'totalGames']\n",
      "https://na1.api.riotgames.com/lol/match/v3/matchlists/by-account/37748784/recent?api_key=RGAPI-e2f8f2eb-8240-4afe-9c00-aaa14abc5363\n",
      "[u'matches', u'endIndex', u'startIndex', u'totalGames']\n",
      "https://na1.api.riotgames.com/lol/match/v3/matchlists/by-account/221315121/recent?api_key=RGAPI-e2f8f2eb-8240-4afe-9c00-aaa14abc5363\n",
      "[u'matches', u'endIndex', u'startIndex', u'totalGames']\n",
      "https://na1.api.riotgames.com/lol/match/v3/matchlists/by-account/50888754/recent?api_key=RGAPI-e2f8f2eb-8240-4afe-9c00-aaa14abc5363\n",
      "[u'matches', u'endIndex', u'startIndex', u'totalGames']\n",
      "https://na1.api.riotgames.com/lol/match/v3/matchlists/by-account/208044083/recent?api_key=RGAPI-e2f8f2eb-8240-4afe-9c00-aaa14abc5363\n",
      "[u'matches', u'endIndex', u'startIndex', u'totalGames']\n",
      "https://na1.api.riotgames.com/lol/match/v3/matchlists/by-account/201490486/recent?api_key=RGAPI-e2f8f2eb-8240-4afe-9c00-aaa14abc5363\n",
      "[u'matches', u'endIndex', u'startIndex', u'totalGames']\n",
      "https://na1.api.riotgames.com/lol/match/v3/matchlists/by-account/214564920/recent?api_key=RGAPI-e2f8f2eb-8240-4afe-9c00-aaa14abc5363\n",
      "[u'matches', u'endIndex', u'startIndex', u'totalGames']\n",
      "https://na1.api.riotgames.com/lol/match/v3/matchlists/by-account/211779641/recent?api_key=RGAPI-e2f8f2eb-8240-4afe-9c00-aaa14abc5363\n",
      "[u'matches', u'endIndex', u'startIndex', u'totalGames']\n",
      "https://na1.api.riotgames.com/lol/match/v3/matchlists/by-account/40435771/recent?api_key=RGAPI-e2f8f2eb-8240-4afe-9c00-aaa14abc5363\n",
      "[u'matches', u'endIndex', u'startIndex', u'totalGames']\n",
      "https://na1.api.riotgames.com/lol/match/v3/matchlists/by-account/32669757/recent?api_key=RGAPI-e2f8f2eb-8240-4afe-9c00-aaa14abc5363\n",
      "[u'matches', u'endIndex', u'startIndex', u'totalGames']\n",
      "https://na1.api.riotgames.com/lol/match/v3/matchlists/by-account/49217602/recent?api_key=RGAPI-e2f8f2eb-8240-4afe-9c00-aaa14abc5363\n",
      "[u'matches', u'endIndex', u'startIndex', u'totalGames']\n",
      "https://na1.api.riotgames.com/lol/match/v3/matchlists/by-account/213319751/recent?api_key=RGAPI-e2f8f2eb-8240-4afe-9c00-aaa14abc5363\n",
      "[u'matches', u'endIndex', u'startIndex', u'totalGames']\n",
      "https://na1.api.riotgames.com/lol/match/v3/matchlists/by-account/232554569/recent?api_key=RGAPI-e2f8f2eb-8240-4afe-9c00-aaa14abc5363\n",
      "[u'matches', u'endIndex', u'startIndex', u'totalGames']\n",
      "https://na1.api.riotgames.com/lol/match/v3/matchlists/by-account/229277772/recent?api_key=RGAPI-e2f8f2eb-8240-4afe-9c00-aaa14abc5363\n",
      "[u'matches', u'endIndex', u'startIndex', u'totalGames']\n",
      "https://na1.api.riotgames.com/lol/match/v3/matchlists/by-account/218562640/recent?api_key=RGAPI-e2f8f2eb-8240-4afe-9c00-aaa14abc5363\n",
      "[u'matches', u'endIndex', u'startIndex', u'totalGames']\n",
      "https://na1.api.riotgames.com/lol/match/v3/matchlists/by-account/222658649/recent?api_key=RGAPI-e2f8f2eb-8240-4afe-9c00-aaa14abc5363\n",
      "[u'matches', u'endIndex', u'startIndex', u'totalGames']\n",
      "https://na1.api.riotgames.com/lol/match/v3/matchlists/by-account/222975333/recent?api_key=RGAPI-e2f8f2eb-8240-4afe-9c00-aaa14abc5363\n",
      "[u'matches', u'endIndex', u'startIndex', u'totalGames']\n",
      "https://na1.api.riotgames.com/lol/match/v3/matchlists/by-account/201162855/recent?api_key=RGAPI-e2f8f2eb-8240-4afe-9c00-aaa14abc5363\n",
      "[u'matches', u'endIndex', u'startIndex', u'totalGames']\n",
      "https://na1.api.riotgames.com/lol/match/v3/matchlists/by-account/41681003/recent?api_key=RGAPI-e2f8f2eb-8240-4afe-9c00-aaa14abc5363\n",
      "[u'matches', u'endIndex', u'startIndex', u'totalGames']\n",
      "https://na1.api.riotgames.com/lol/match/v3/matchlists/by-account/227737710/recent?api_key=RGAPI-e2f8f2eb-8240-4afe-9c00-aaa14abc5363\n",
      "[u'matches', u'endIndex', u'startIndex', u'totalGames']\n",
      "https://na1.api.riotgames.com/lol/match/v3/matchlists/by-account/45154415/recent?api_key=RGAPI-e2f8f2eb-8240-4afe-9c00-aaa14abc5363\n",
      "[u'matches', u'endIndex', u'startIndex', u'totalGames']\n",
      "https://na1.api.riotgames.com/lol/match/v3/matchlists/by-account/221872240/recent?api_key=RGAPI-e2f8f2eb-8240-4afe-9c00-aaa14abc5363\n",
      "[u'matches', u'endIndex', u'startIndex', u'totalGames']\n",
      "https://na1.api.riotgames.com/lol/match/v3/matchlists/by-account/212762737/recent?api_key=RGAPI-e2f8f2eb-8240-4afe-9c00-aaa14abc5363\n",
      "[u'matches', u'endIndex', u'startIndex', u'totalGames']\n",
      "https://na1.api.riotgames.com/lol/match/v3/matchlists/by-account/229212274/recent?api_key=RGAPI-e2f8f2eb-8240-4afe-9c00-aaa14abc5363\n",
      "[u'matches', u'endIndex', u'startIndex', u'totalGames']\n",
      "https://na1.api.riotgames.com/lol/match/v3/matchlists/by-account/202276984/recent?api_key=RGAPI-e2f8f2eb-8240-4afe-9c00-aaa14abc5363\n",
      "[u'matches', u'endIndex', u'startIndex', u'totalGames']\n",
      "https://na1.api.riotgames.com/lol/match/v3/matchlists/by-account/234946683/recent?api_key=RGAPI-e2f8f2eb-8240-4afe-9c00-aaa14abc5363\n",
      "[u'matches', u'endIndex', u'startIndex', u'totalGames']\n",
      "https://na1.api.riotgames.com/lol/match/v3/matchlists/by-account/224886911/recent?api_key=RGAPI-e2f8f2eb-8240-4afe-9c00-aaa14abc5363\n",
      "[u'matches', u'endIndex', u'startIndex', u'totalGames']\n",
      "https://na1.api.riotgames.com/lol/match/v3/matchlists/by-account/50850496/recent?api_key=RGAPI-e2f8f2eb-8240-4afe-9c00-aaa14abc5363\n",
      "[u'matches', u'endIndex', u'startIndex', u'totalGames']\n",
      "https://na1.api.riotgames.com/lol/match/v3/matchlists/by-account/234487941/recent?api_key=RGAPI-e2f8f2eb-8240-4afe-9c00-aaa14abc5363\n",
      "[u'matches', u'endIndex', u'startIndex', u'totalGames']\n",
      "https://na1.api.riotgames.com/lol/match/v3/matchlists/by-account/213123206/recent?api_key=RGAPI-e2f8f2eb-8240-4afe-9c00-aaa14abc5363\n",
      "[u'matches', u'endIndex', u'startIndex', u'totalGames']\n",
      "https://na1.api.riotgames.com/lol/match/v3/matchlists/by-account/43843723/recent?api_key=RGAPI-e2f8f2eb-8240-4afe-9c00-aaa14abc5363\n",
      "[u'matches', u'endIndex', u'startIndex', u'totalGames']\n",
      "https://na1.api.riotgames.com/lol/match/v3/matchlists/by-account/230326412/recent?api_key=RGAPI-e2f8f2eb-8240-4afe-9c00-aaa14abc5363\n",
      "[u'matches', u'endIndex', u'startIndex', u'totalGames']\n",
      "https://na1.api.riotgames.com/lol/match/v3/matchlists/by-account/47431704/recent?api_key=RGAPI-e2f8f2eb-8240-4afe-9c00-aaa14abc5363\n",
      "[u'matches', u'endIndex', u'startIndex', u'totalGames']\n"
     ]
    },
    {
     "name": "stdout",
     "output_type": "stream",
     "text": [
      "https://na1.api.riotgames.com/lol/match/v3/matchlists/by-account/213254296/recent?api_key=RGAPI-e2f8f2eb-8240-4afe-9c00-aaa14abc5363\n",
      "[u'matches', u'endIndex', u'startIndex', u'totalGames']\n",
      "https://na1.api.riotgames.com/lol/match/v3/matchlists/by-account/214794393/recent?api_key=RGAPI-e2f8f2eb-8240-4afe-9c00-aaa14abc5363\n",
      "[u'matches', u'endIndex', u'startIndex', u'totalGames']\n",
      "https://na1.api.riotgames.com/lol/match/v3/matchlists/by-account/203915427/recent?api_key=RGAPI-e2f8f2eb-8240-4afe-9c00-aaa14abc5363\n",
      "[u'matches', u'endIndex', u'startIndex', u'totalGames']\n",
      "https://na1.api.riotgames.com/lol/match/v3/matchlists/by-account/50462885/recent?api_key=RGAPI-e2f8f2eb-8240-4afe-9c00-aaa14abc5363\n",
      "[u'matches', u'endIndex', u'startIndex', u'totalGames']\n",
      "https://na1.api.riotgames.com/lol/match/v3/matchlists/by-account/34898086/recent?api_key=RGAPI-e2f8f2eb-8240-4afe-9c00-aaa14abc5363\n",
      "[u'matches', u'endIndex', u'startIndex', u'totalGames']\n"
     ]
    },
    {
     "ename": "KeyboardInterrupt",
     "evalue": "",
     "output_type": "error",
     "traceback": [
      "\u001b[0;31m---------------------------------------------------------------------------\u001b[0m",
      "\u001b[0;31mKeyboardInterrupt\u001b[0m                         Traceback (most recent call last)",
      "\u001b[0;32m<ipython-input-5-80c3f886310b>\u001b[0m in \u001b[0;36m<module>\u001b[0;34m()\u001b[0m\n\u001b[1;32m     21\u001b[0m \u001b[0;32mfor\u001b[0m \u001b[0miteration\u001b[0m\u001b[0;34m,\u001b[0m \u001b[0mplayerId\u001b[0m \u001b[0;32min\u001b[0m \u001b[0menumerate\u001b[0m\u001b[0;34m(\u001b[0m\u001b[0mplayer_ids_set\u001b[0m\u001b[0;34m)\u001b[0m\u001b[0;34m:\u001b[0m\u001b[0;34m\u001b[0m\u001b[0m\n\u001b[1;32m     22\u001b[0m     \u001b[0;32mif\u001b[0m \u001b[0;34m(\u001b[0m\u001b[0miteration\u001b[0m\u001b[0;34m+\u001b[0m\u001b[0;36m1\u001b[0m\u001b[0;34m)\u001b[0m\u001b[0;34m%\u001b[0m\u001b[0;36m17\u001b[0m\u001b[0;34m==\u001b[0m\u001b[0;36m0\u001b[0m\u001b[0;34m:\u001b[0m\u001b[0;34m\u001b[0m\u001b[0m\n\u001b[0;32m---> 23\u001b[0;31m         \u001b[0mtime\u001b[0m\u001b[0;34m.\u001b[0m\u001b[0msleep\u001b[0m\u001b[0;34m(\u001b[0m\u001b[0;36m1\u001b[0m\u001b[0;34m)\u001b[0m\u001b[0;34m\u001b[0m\u001b[0m\n\u001b[0m\u001b[1;32m     24\u001b[0m     \u001b[0;32mif\u001b[0m \u001b[0;34m(\u001b[0m\u001b[0miteration\u001b[0m\u001b[0;34m+\u001b[0m\u001b[0;36m1\u001b[0m\u001b[0;34m)\u001b[0m\u001b[0;34m%\u001b[0m\u001b[0;36m97\u001b[0m\u001b[0;34m==\u001b[0m\u001b[0;36m0\u001b[0m\u001b[0;34m:\u001b[0m\u001b[0;34m\u001b[0m\u001b[0m\n\u001b[1;32m     25\u001b[0m         \u001b[0;32mprint\u001b[0m \u001b[0;34m\"sleeping_120\"\u001b[0m\u001b[0;34m\u001b[0m\u001b[0m\n",
      "\u001b[0;31mKeyboardInterrupt\u001b[0m: "
     ]
    }
   ],
   "source": [
    "import json\n",
    "import requests\n",
    "import time\n",
    "import pickle\n",
    "import ast\n",
    "\n",
    "with open(\"10000playerIds.txt\") as f:\n",
    "    player_ids_set=set(ast.literal_eval(f.read()))\n",
    "    \n",
    "with open(\"api_key_1.txt\") as f:\n",
    "    api_key=f.read()\n",
    "    \n",
    "def write_list_to_file(list_to_write,file_to_store):\n",
    "    with open(str(file_to_store), \"a\") as f:\n",
    "        f.write(str(list_to_write))\n",
    "        f.write(\"\\n\")\n",
    "        f.write(\"\\n\")\n",
    "    \n",
    "big_bad_list_of_gameIds=[]\n",
    "big_bad_set_of_gameIds=set()\n",
    "for iteration, playerId in enumerate(player_ids_set):\n",
    "    if (iteration+1)%17==0:\n",
    "        time.sleep(1)\n",
    "    if (iteration+1)%97==0:\n",
    "        with open(\"log.txt\",\"a\") as f:\n",
    "            f.write(\"sleeping_120\")\n",
    "        time.sleep(120)\n",
    "    if (iteration+1)%2000==0:\n",
    "        with open(\"log.txt\",\"a\") as f:\n",
    "            f.write(\"writing list\")\n",
    "        write_list_to_file(big_bad_list_of_gameIds, \"big_bad_list\")\n",
    "    url=\"https://na1.api.riotgames.com/lol/match/v3/matchlists/by-account/\"+str(playerId)+\"/recent?api_key=\"+api_key\n",
    "    match_history=requests.get(url).json()\n",
    "    try:\n",
    "        for match in match_history[\"matches\"]:\n",
    "            big_bad_list_of_gameIds.append(match[\"gameId\"])\n",
    "            big_bad_set_of_gameIds.add(match[\"gameId\"])\n",
    "    except:\n",
    "        with open(\"log.txt\",\"a\") as f:\n",
    "            f.write(\"error:\")\n",
    "            f.write(str(match_history.keys()))\n",
    "        \n",
    "pickle.dump( big_bad_list_of_gameIds, open( \"2mill_gameIds.p\", \"wb\" ) )\n",
    "pickle.dump( big_bad_set_of_gameIds, open( \"2mill_gameIds_set.p\", \"wb\" ) )"
   ]
  },
  {
   "cell_type": "code",
   "execution_count": 16,
   "metadata": {
    "collapsed": true
   },
   "outputs": [],
   "source": [
    "response={\"matches\":[7,2,3,5]}"
   ]
  },
  {
   "cell_type": "code",
   "execution_count": 11,
   "metadata": {},
   "outputs": [
    {
     "ename": "KeyError",
     "evalue": "'matches'",
     "output_type": "error",
     "traceback": [
      "\u001b[0;31m---------------------------------------------------------------------------\u001b[0m",
      "\u001b[0;31mKeyError\u001b[0m                                  Traceback (most recent call last)",
      "\u001b[0;32m<ipython-input-11-1de9f431042b>\u001b[0m in \u001b[0;36m<module>\u001b[0;34m()\u001b[0m\n\u001b[0;32m----> 1\u001b[0;31m \u001b[0;32mfor\u001b[0m \u001b[0mx\u001b[0m \u001b[0;32min\u001b[0m \u001b[0mresponse\u001b[0m\u001b[0;34m[\u001b[0m\u001b[0;34m\"matches\"\u001b[0m\u001b[0;34m]\u001b[0m\u001b[0;34m:\u001b[0m\u001b[0;34m\u001b[0m\u001b[0m\n\u001b[0m\u001b[1;32m      2\u001b[0m     \u001b[0;32mprint\u001b[0m \u001b[0mx\u001b[0m\u001b[0;34m\u001b[0m\u001b[0m\n",
      "\u001b[0;31mKeyError\u001b[0m: 'matches'"
     ]
    }
   ],
   "source": [
    "for x in response[\"matches\"]:\n",
    "    print x"
   ]
  },
  {
   "cell_type": "code",
   "execution_count": 18,
   "metadata": {},
   "outputs": [
    {
     "name": "stdout",
     "output_type": "stream",
     "text": [
      "7\n",
      "2\n",
      "3\n",
      "5\n"
     ]
    }
   ],
   "source": [
    "try:\n",
    "    for x in response[\"matches\"]:\n",
    "        print x\n",
    "except:\n",
    "    print \"no\""
   ]
  },
  {
   "cell_type": "code",
   "execution_count": null,
   "metadata": {
    "collapsed": true
   },
   "outputs": [],
   "source": []
  }
 ],
 "metadata": {
  "kernelspec": {
   "display_name": "Python 2",
   "language": "python",
   "name": "python2"
  },
  "language_info": {
   "codemirror_mode": {
    "name": "ipython",
    "version": 2
   },
   "file_extension": ".py",
   "mimetype": "text/x-python",
   "name": "python",
   "nbconvert_exporter": "python",
   "pygments_lexer": "ipython2",
   "version": "2.7.13"
  }
 },
 "nbformat": 4,
 "nbformat_minor": 2
}
