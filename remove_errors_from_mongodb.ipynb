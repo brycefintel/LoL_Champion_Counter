{
 "cells": [
  {
   "cell_type": "code",
   "execution_count": 1,
   "metadata": {
    "collapsed": true
   },
   "outputs": [],
   "source": [
    "import pymongo\n",
    "import pickle\n",
    "import time"
   ]
  },
  {
   "cell_type": "code",
   "execution_count": 2,
   "metadata": {
    "collapsed": true
   },
   "outputs": [],
   "source": [
    "client = pymongo.MongoClient(\"mongodb://localhost:37017\" )\n",
    "db=client[\"lol\"]\n",
    "coll=db[\"match_data\"]"
   ]
  },
  {
   "cell_type": "code",
   "execution_count": 12,
   "metadata": {},
   "outputs": [
    {
     "data": {
      "text/plain": [
       "100"
      ]
     },
     "execution_count": 12,
     "metadata": {},
     "output_type": "execute_result"
    }
   ],
   "source": [
    "coll.find({\"data\":{u'status': {u'status_code': 404, u'message': u'Data not found'}}}).count()"
   ]
  },
  {
   "cell_type": "code",
   "execution_count": 4,
   "metadata": {
    "collapsed": true
   },
   "outputs": [
    {
     "data": {
      "text/plain": [
       "[1012,\n",
       " 1987,\n",
       " 3854,\n",
       " 4304,\n",
       " 4756,\n",
       " 4923,\n",
       " 5753,\n",
       " 6036,\n",
       " 6337,\n",
       " 9647,\n",
       " 10288,\n",
       " 10398,\n",
       " 10539,\n",
       " 11127,\n",
       " 11659,\n",
       " 12333,\n",
       " 12837,\n",
       " 14680,\n",
       " 15117,\n",
       " 15772,\n",
       " 16472,\n",
       " 16958,\n",
       " 17505,\n",
       " 18363,\n",
       " 18751,\n",
       " 18979,\n",
       " 20170,\n",
       " 20336,\n",
       " 21156,\n",
       " 21959,\n",
       " 22788,\n",
       " 23250,\n",
       " 25624,\n",
       " 26292,\n",
       " 26788,\n",
       " 27038,\n",
       " 28714,\n",
       " 28720,\n",
       " 29006,\n",
       " 29112,\n",
       " 29140,\n",
       " 30479,\n",
       " 30736,\n",
       " 31201,\n",
       " 31479,\n",
       " 32078,\n",
       " 32796,\n",
       " 33174,\n",
       " 34890,\n",
       " 36784,\n",
       " 37326,\n",
       " 38168,\n",
       " 38637,\n",
       " 39437,\n",
       " 43423,\n",
       " 44091,\n",
       " 44254,\n",
       " 44702,\n",
       " 44882,\n",
       " 45090,\n",
       " 45160,\n",
       " 46968,\n",
       " 47300,\n",
       " 48391,\n",
       " 50179,\n",
       " 53426,\n",
       " 54230,\n",
       " 54751,\n",
       " 59370,\n",
       " 59918,\n",
       " 60366,\n",
       " 65731,\n",
       " 69187,\n",
       " 69455,\n",
       " 69611,\n",
       " 70858,\n",
       " 71939,\n",
       " 73915,\n",
       " 75203,\n",
       " 79091,\n",
       " 81362,\n",
       " 82063,\n",
       " 83066,\n",
       " 83370,\n",
       " 85514,\n",
       " 86126,\n",
       " 86370,\n",
       " 86374,\n",
       " 89514,\n",
       " 91246,\n",
       " 92242,\n",
       " 94187,\n",
       " 94379,\n",
       " 95518,\n",
       " 98467,\n",
       " 99742,\n",
       " 100266,\n",
       " 103406,\n",
       " 103650,\n",
       " 105730]"
      ]
     },
     "execution_count": 4,
     "metadata": {},
     "output_type": "execute_result"
    }
   ],
   "source": [
    "[x[\"_id\"] for x in coll.find({\"data\":{u'status': {u'status_code': 404, u'message': u'Data not found'}}})]"
   ]
  },
  {
   "cell_type": "code",
   "execution_count": 7,
   "metadata": {
    "scrolled": true
   },
   "outputs": [
    {
     "data": {
      "text/plain": [
       "[{u'_id': 105730,\n",
       "  u'batch': 2,\n",
       "  u'data': {u'status': {u'message': u'Data not found', u'status_code': 404}},\n",
       "  u'done': u'true',\n",
       "  u'gameid': 3376175605L}]"
      ]
     },
     "execution_count": 7,
     "metadata": {},
     "output_type": "execute_result"
    }
   ],
   "source": [
    "list(coll.find({\"_id\":105730}))"
   ]
  },
  {
   "cell_type": "code",
   "execution_count": 14,
   "metadata": {},
   "outputs": [
    {
     "name": "stderr",
     "output_type": "stream",
     "text": [
      "/home/bryce/anaconda2/lib/python2.7/site-packages/ipykernel_launcher.py:1: DeprecationWarning: remove is deprecated. Use delete_one or delete_many instead.\n",
      "  \"\"\"Entry point for launching an IPython kernel.\n"
     ]
    },
    {
     "data": {
      "text/plain": [
       "{u'n': 100, u'ok': 1.0}"
      ]
     },
     "execution_count": 14,
     "metadata": {},
     "output_type": "execute_result"
    }
   ],
   "source": [
    "#coll.remove({\"data\":{u'status': {u'status_code': 404, u'message': u'Data not found'}}})"
   ]
  },
  {
   "cell_type": "code",
   "execution_count": 18,
   "metadata": {
    "collapsed": true
   },
   "outputs": [],
   "source": [
    "#coll.remove({\"data\":{u'status': {u'status_code': 500, u'message': u'Internal server error'}}})"
   ]
  },
  {
   "cell_type": "code",
   "execution_count": 19,
   "metadata": {},
   "outputs": [
    {
     "data": {
      "text/plain": [
       "1"
      ]
     },
     "execution_count": 19,
     "metadata": {},
     "output_type": "execute_result"
    }
   ],
   "source": [
    "coll.find({\"data\":{u'status': {u'status_code': 500, u'message': u'Internal server error'}}}).count()"
   ]
  },
  {
   "cell_type": "code",
   "execution_count": 13,
   "metadata": {},
   "outputs": [
    {
     "data": {
      "text/plain": [
       "191348"
      ]
     },
     "execution_count": 13,
     "metadata": {},
     "output_type": "execute_result"
    }
   ],
   "source": [
    "coll.count()"
   ]
  },
  {
   "cell_type": "code",
   "execution_count": 15,
   "metadata": {},
   "outputs": [
    {
     "data": {
      "text/plain": [
       "191248"
      ]
     },
     "execution_count": 15,
     "metadata": {},
     "output_type": "execute_result"
    }
   ],
   "source": [
    "coll.count()"
   ]
  },
  {
   "cell_type": "code",
   "execution_count": null,
   "metadata": {
    "collapsed": true
   },
   "outputs": [],
   "source": []
  }
 ],
 "metadata": {
  "kernelspec": {
   "display_name": "Python 2",
   "language": "python",
   "name": "python2"
  },
  "language_info": {
   "codemirror_mode": {
    "name": "ipython",
    "version": 2
   },
   "file_extension": ".py",
   "mimetype": "text/x-python",
   "name": "python",
   "nbconvert_exporter": "python",
   "pygments_lexer": "ipython2",
   "version": "2.7.13"
  }
 },
 "nbformat": 4,
 "nbformat_minor": 2
}
