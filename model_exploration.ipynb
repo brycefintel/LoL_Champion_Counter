{
 "cells": [
  {
   "cell_type": "code",
   "execution_count": 24,
   "metadata": {
    "collapsed": true
   },
   "outputs": [],
   "source": [
    "import pandas as pd\n",
    "import numpy as np\n",
    "import pymongo\n",
    "import requests\n",
    "import json\n",
    "import pickle\n",
    "from collections import defaultdict\n",
    "from collections import Counter"
   ]
  },
  {
   "cell_type": "code",
   "execution_count": 21,
   "metadata": {},
   "outputs": [],
   "source": [
    "def reccomend(a1=None,a2=None,a3=None,a4=None,a5=None,\n",
    "              e1=None,e2=None,e3=None,e4=None,e5=None,\n",
    "              enemy_laner1=None,enemy_laner2=None):\n",
    "    \n",
    "    allies=[champid for champid in [a1,a2,a3,a4,a5] if champid != None]\n",
    "    enemies=[champid for champid in [e1,e2,e3,e4,e5] if champid != None]\n",
    "    return allies,enemies"
   ]
  },
  {
   "cell_type": "code",
   "execution_count": 22,
   "metadata": {},
   "outputs": [
    {
     "data": {
      "text/plain": [
       "([1, 8], [133, 178, 203])"
      ]
     },
     "execution_count": 22,
     "metadata": {},
     "output_type": "execute_result"
    }
   ],
   "source": [
    "result=reccomend(a1=1,a2=8,e1=133,e2=178,e3=203)\n",
    "result"
   ]
  },
  {
   "cell_type": "code",
   "execution_count": 5,
   "metadata": {},
   "outputs": [
    {
     "name": "stdout",
     "output_type": "stream",
     "text": [
      "1\n",
      "8\n",
      "None\n",
      "None\n",
      "None\n"
     ]
    }
   ],
   "source": [
    "for x in result[0]:\n",
    "    "
   ]
  },
  {
   "cell_type": "code",
   "execution_count": 6,
   "metadata": {
    "collapsed": true
   },
   "outputs": [],
   "source": [
    "gdic={\"1\":.4,\"8\":.6,\"12\":.33}"
   ]
  },
  {
   "cell_type": "code",
   "execution_count": 16,
   "metadata": {},
   "outputs": [
    {
     "data": {
      "text/plain": [
       "[1, 8]"
      ]
     },
     "execution_count": 16,
     "metadata": {},
     "output_type": "execute_result"
    }
   ],
   "source": [
    "[x for x in result[0] if x != None]"
   ]
  },
  {
   "cell_type": "code",
   "execution_count": 25,
   "metadata": {},
   "outputs": [],
   "source": [
    "try:\n",
    "    champ_dict\n",
    "except:\n",
    "    champ_dict = pickle.load(open(\"champion_dict.p\",\"rb\"))\n",
    "\n",
    "def champion_number_to_name(champion_number):\n",
    "\n",
    "    return champ_dict[\"data\"][str(champion_number)][\"name\"]"
   ]
  },
  {
   "cell_type": "code",
   "execution_count": 31,
   "metadata": {},
   "outputs": [],
   "source": [
    "possible_champs=champ_dict[\"data\"].keys()\n",
    "predicting_probs={}"
   ]
  },
  {
   "cell_type": "code",
   "execution_count": 72,
   "metadata": {},
   "outputs": [],
   "source": [
    "class recommender(object):\n",
    "    def __init__(self,a1=None,a2=None,a3=None,a4=None,a5=None,\n",
    "                 e1=None,e2=None,e3=None,e4=None,e5=None,\n",
    "                 enemy_laner1=None,enemy_laner2=None):\n",
    "        #self.a1=a1, self.a2=a2, self.a3=a3, self.a4=a4, self.a5=a5\n",
    "        #self.e1=e1, self.e2=e2, self.e3=e3, self.e4=e4, self.e5=e5\n",
    "        self.enemy_laner1=enemy_laner1, self.enemy_laner2=enemy_laner2\n",
    "        self.allies=[champid for champid in [a1,a2,a3,a4,a5] if champid != None]\n",
    "        self.enemies=[champid for champid in [e1,e2,e3,e4,e5] if champid != None]\n",
    "        self.champion_dict = pickle.load(open(\"champion_dict.p\",\"rb\"))\n",
    "        self.matchup_winrates= !!!pickle!!!\n",
    "        self.synergy_winrates= !!!pickle!!!\n",
    "        self.base_champ_winrate = pickle.load( open( \"flat_win_perent.p\", \"rb\" ) )\n",
    "        self.predicted_winrates = {}\n",
    "        \n",
    "        \n",
    "    def load_base_winrater(self):\n",
    "        self.predicted_winrates=self.base_champ_winrate\n",
    "        \n",
    "    def get_winrate_for_enemy(self,possible_pick,enemyid):\n",
    "        return self.matchup_winrates[possible_pick,enemyid]\n",
    "    def get_winrate_for_ally(possible_pick,allyid):\n",
    "        return self.synergy_winrates[possible_pick,allyid]\n",
    "    \n",
    "    def update_predicted_winrate(self,picked_champion, enemy=True):\n",
    "        if enemy==True:\n",
    "            get_winrate=self.get_winrate_for_enemy\n",
    "        else:\n",
    "            get_winrate=self.get_winrate_for_ally        \n",
    "        for champion in predicted_winrates.keys():\n",
    "            predicted_winrates[champion] += get_winrate(champion,picked_champion)\n",
    "    \n",
    "    def top_5_picks(self):\n",
    "        return sorted(self.predicted_winrates.items(), key=lambda(item): item[1], reverse=True)[:5]\n",
    "    \n",
    "    def champion_name_from_id(self,champion_number):\n",
    "        return self.champ_dict[\"data\"][str(champion_number)][\"name\"]\n",
    "        \n",
    "        \n",
    "        "
   ]
  },
  {
   "cell_type": "code",
   "execution_count": 38,
   "metadata": {
    "collapsed": true
   },
   "outputs": [],
   "source": [
    "flat_wr= pickle.load( open( \"flat_win_percent.p\", \"rb\" ) )"
   ]
  },
  {
   "cell_type": "code",
   "execution_count": null,
   "metadata": {
    "collapsed": true
   },
   "outputs": [],
   "source": []
  }
 ],
 "metadata": {
  "kernelspec": {
   "display_name": "Python 2",
   "language": "python",
   "name": "python2"
  },
  "language_info": {
   "codemirror_mode": {
    "name": "ipython",
    "version": 2
   },
   "file_extension": ".py",
   "mimetype": "text/x-python",
   "name": "python",
   "nbconvert_exporter": "python",
   "pygments_lexer": "ipython2",
   "version": "2.7.13"
  }
 },
 "nbformat": 4,
 "nbformat_minor": 2
}
