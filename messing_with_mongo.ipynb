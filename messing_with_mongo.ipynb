{
 "cells": [
  {
   "cell_type": "code",
   "execution_count": 6,
   "metadata": {
    "collapsed": true
   },
   "outputs": [],
   "source": [
    "import pymongo\n",
    "import pickle\n",
    "import time"
   ]
  },
  {
   "cell_type": "code",
   "execution_count": 76,
   "metadata": {
    "collapsed": true
   },
   "outputs": [],
   "source": [
    "client = pymongo.MongoClient(\"mongodb://localhost:37017\" )\n",
    "db=client[\"lol\"]\n",
    "coll=db[\"match_data\"]"
   ]
  },
  {
   "cell_type": "code",
   "execution_count": 77,
   "metadata": {},
   "outputs": [
    {
     "data": {
      "text/plain": [
       "[u'match_data', u'api_keys']"
      ]
     },
     "execution_count": 77,
     "metadata": {},
     "output_type": "execute_result"
    }
   ],
   "source": [
    "db.collection_names()"
   ]
  },
  {
   "cell_type": "code",
   "execution_count": 27,
   "metadata": {
    "collapsed": true
   },
   "outputs": [],
   "source": [
    "gameIds = set(pickle.load( open( \"2mill_gameIds.p\", \"rb\" ) ))"
   ]
  },
  {
   "cell_type": "code",
   "execution_count": 28,
   "metadata": {},
   "outputs": [
    {
     "data": {
      "text/plain": [
       "(199358, 191348)"
      ]
     },
     "execution_count": 28,
     "metadata": {},
     "output_type": "execute_result"
    }
   ],
   "source": [
    "len(gameIds), len(set(gameIds))"
   ]
  },
  {
   "cell_type": "code",
   "execution_count": 56,
   "metadata": {},
   "outputs": [
    {
     "data": {
      "text/plain": [
       "191348"
      ]
     },
     "execution_count": 56,
     "metadata": {},
     "output_type": "execute_result"
    }
   ],
   "source": [
    "coll.count()"
   ]
  },
  {
   "cell_type": "code",
   "execution_count": 89,
   "metadata": {},
   "outputs": [
    {
     "data": {
      "text/plain": [
       "{u'_id': 4, u'batch': 0, u'done': u'false', u'gameid': 2622605327L}"
      ]
     },
     "execution_count": 89,
     "metadata": {},
     "output_type": "execute_result"
    }
   ],
   "source": [
    "x=coll.find_one({\"batch\":0,\"done\":\"false\"})\n",
    "coll.find_one({\"batch\":0,\"done\":\"false\"})"
   ]
  },
  {
   "cell_type": "code",
   "execution_count": 91,
   "metadata": {},
   "outputs": [
    {
     "data": {
      "text/plain": [
       "<pymongo.results.UpdateResult at 0x7fca3f72cfa0>"
      ]
     },
     "execution_count": 91,
     "metadata": {},
     "output_type": "execute_result"
    }
   ],
   "source": [
    "coll.update_one({\"_id\":x[\"_id\"]},{\"$set\":{\"done\":\"true\",\"data\":\"hello\"}})"
   ]
  },
  {
   "cell_type": "code",
   "execution_count": null,
   "metadata": {
    "collapsed": true
   },
   "outputs": [],
   "source": []
  },
  {
   "cell_type": "code",
   "execution_count": 37,
   "metadata": {},
   "outputs": [
    {
     "data": {
      "text/plain": [
       "{u'_id': 86131,\n",
       " u'batch': 3,\n",
       " u'data': {u'status': {u'message': u'Forbidden', u'status_code': 403}},\n",
       " u'done': u'true',\n",
       " u'gameid': 2621479043L}"
      ]
     },
     "execution_count": 37,
     "metadata": {},
     "output_type": "execute_result"
    }
   ],
   "source": [
    "coll.find_one({\"done\":\"true\",\"data\":{\"status\":{\"message\":\"Forbidden\",\"status_code\":403}}})"
   ]
  },
  {
   "cell_type": "code",
   "execution_count": 99,
   "metadata": {},
   "outputs": [
    {
     "data": {
      "text/plain": [
       "0"
      ]
     },
     "execution_count": 99,
     "metadata": {},
     "output_type": "execute_result"
    }
   ],
   "source": [
    "coll.find({\"done\":\"true\",\"data\":{\"status\":{\"message\":\"Forbidden\",\"status_code\":403}}}).count()"
   ]
  },
  {
   "cell_type": "code",
   "execution_count": 90,
   "metadata": {
    "collapsed": true
   },
   "outputs": [],
   "source": [
    "entry_in_question=coll.find_one({\"done\":\"true\",\"data\":{\"status\":{\"message\":\"Forbidden\",\"status_code\":403}}})"
   ]
  },
  {
   "cell_type": "code",
   "execution_count": 92,
   "metadata": {},
   "outputs": [
    {
     "ename": "TypeError",
     "evalue": "'NoneType' object has no attribute '__getitem__'",
     "output_type": "error",
     "traceback": [
      "\u001b[0;31m---------------------------------------------------------------------------\u001b[0m",
      "\u001b[0;31mTypeError\u001b[0m                                 Traceback (most recent call last)",
      "\u001b[0;32m<ipython-input-92-79bf8d3bee81>\u001b[0m in \u001b[0;36m<module>\u001b[0;34m()\u001b[0m\n\u001b[0;32m----> 1\u001b[0;31m \u001b[0mentry_in_question\u001b[0m\u001b[0;34m[\u001b[0m\u001b[0;34m\"_id\"\u001b[0m\u001b[0;34m]\u001b[0m\u001b[0;34m\u001b[0m\u001b[0m\n\u001b[0m",
      "\u001b[0;31mTypeError\u001b[0m: 'NoneType' object has no attribute '__getitem__'"
     ]
    }
   ],
   "source": [
    "entry_in_question[\"_id\"]"
   ]
  },
  {
   "cell_type": "code",
   "execution_count": 88,
   "metadata": {},
   "outputs": [
    {
     "data": {
      "text/plain": [
       "<pymongo.results.UpdateResult at 0x7fc6c7f95af0>"
      ]
     },
     "execution_count": 88,
     "metadata": {},
     "output_type": "execute_result"
    }
   ],
   "source": [
    "coll.update_one({\"_id\":entry_in_question[\"_id\"]},{\"$set\":{\"done\":\"false\",\"data\":\"removed\"}})"
   ]
  },
  {
   "cell_type": "code",
   "execution_count": 89,
   "metadata": {},
   "outputs": [
    {
     "data": {
      "text/plain": [
       "[{u'_id': 86803,\n",
       "  u'batch': 3,\n",
       "  u'data': u'removed',\n",
       "  u'done': u'false',\n",
       "  u'gameid': 2606953288L}]"
      ]
     },
     "execution_count": 89,
     "metadata": {},
     "output_type": "execute_result"
    }
   ],
   "source": [
    "list(coll.find({\"_id\":entry_in_question[\"_id\"]}))"
   ]
  },
  {
   "cell_type": "code",
   "execution_count": 58,
   "metadata": {},
   "outputs": [],
   "source": [
    "for _ in range(5):\n",
    "    entry_in_question=coll.find_one({\"done\":\"true\",\"data\":{\"status\":{\"message\":\"Forbidden\",\"status_code\":403}}})\n",
    "    coll.update_one({\"_id\":entry_in_question[\"_id\"]},{\"$set\":{\"done\":\"false\",\"data\":\"removed\"}})"
   ]
  },
  {
   "cell_type": "code",
   "execution_count": null,
   "metadata": {
    "collapsed": true
   },
   "outputs": [],
   "source": []
  },
  {
   "cell_type": "code",
   "execution_count": 70,
   "metadata": {},
   "outputs": [
    {
     "data": {
      "text/plain": [
       "{u'championId': 33,\n",
       " u'highestAchievedSeasonTier': u'SILVER',\n",
       " u'masteries': [{u'masteryId': 6114, u'rank': 5},\n",
       "  {u'masteryId': 6121, u'rank': 1},\n",
       "  {u'masteryId': 6134, u'rank': 5},\n",
       "  {u'masteryId': 6142, u'rank': 1},\n",
       "  {u'masteryId': 6211, u'rank': 5},\n",
       "  {u'masteryId': 6223, u'rank': 1},\n",
       "  {u'masteryId': 6231, u'rank': 5},\n",
       "  {u'masteryId': 6243, u'rank': 1},\n",
       "  {u'masteryId': 6252, u'rank': 5},\n",
       "  {u'masteryId': 6262, u'rank': 1}],\n",
       " u'participantId': 1,\n",
       " u'runes': [{u'rank': 9, u'runeId': 5247},\n",
       "  {u'rank': 9, u'runeId': 5295},\n",
       "  {u'rank': 9, u'runeId': 5316},\n",
       "  {u'rank': 2, u'runeId': 5347},\n",
       "  {u'rank': 1, u'runeId': 5355}],\n",
       " u'spell1Id': 4,\n",
       " u'spell2Id': 11,\n",
       " u'stats': {u'assists': 6,\n",
       "  u'champLevel': 12,\n",
       "  u'combatPlayerScore': 0,\n",
       "  u'damageDealtToObjectives': 1367,\n",
       "  u'damageDealtToTurrets': 117,\n",
       "  u'damageSelfMitigated': 35120,\n",
       "  u'deaths': 8,\n",
       "  u'doubleKills': 0,\n",
       "  u'firstBloodAssist': False,\n",
       "  u'firstBloodKill': False,\n",
       "  u'firstInhibitorAssist': False,\n",
       "  u'firstInhibitorKill': False,\n",
       "  u'firstTowerAssist': False,\n",
       "  u'firstTowerKill': False,\n",
       "  u'goldEarned': 7698,\n",
       "  u'goldSpent': 7125,\n",
       "  u'inhibitorKills': 0,\n",
       "  u'item0': 1413,\n",
       "  u'item1': 2032,\n",
       "  u'item2': 3075,\n",
       "  u'item3': 3047,\n",
       "  u'item4': 0,\n",
       "  u'item5': 0,\n",
       "  u'item6': 3340,\n",
       "  u'killingSprees': 0,\n",
       "  u'kills': 1,\n",
       "  u'largestCriticalStrike': 65,\n",
       "  u'largestKillingSpree': 0,\n",
       "  u'largestMultiKill': 1,\n",
       "  u'longestTimeSpentLiving': 280,\n",
       "  u'magicDamageDealt': 64665,\n",
       "  u'magicDamageDealtToChampions': 5464,\n",
       "  u'magicalDamageTaken': 7384,\n",
       "  u'neutralMinionsKilled': 76,\n",
       "  u'neutralMinionsKilledEnemyJungle': 0,\n",
       "  u'neutralMinionsKilledTeamJungle': 52,\n",
       "  u'objectivePlayerScore': 0,\n",
       "  u'participantId': 1,\n",
       "  u'pentaKills': 0,\n",
       "  u'physicalDamageDealt': 24101,\n",
       "  u'physicalDamageDealtToChampions': 1491,\n",
       "  u'physicalDamageTaken': 19964,\n",
       "  u'playerScore0': 0,\n",
       "  u'playerScore1': 0,\n",
       "  u'playerScore2': 0,\n",
       "  u'playerScore3': 0,\n",
       "  u'playerScore4': 0,\n",
       "  u'playerScore5': 0,\n",
       "  u'playerScore6': 0,\n",
       "  u'playerScore7': 0,\n",
       "  u'playerScore8': 0,\n",
       "  u'playerScore9': 0,\n",
       "  u'quadraKills': 0,\n",
       "  u'sightWardsBoughtInGame': 0,\n",
       "  u'timeCCingOthers': 27,\n",
       "  u'totalDamageDealt': 94122,\n",
       "  u'totalDamageDealtToChampions': 7681,\n",
       "  u'totalDamageTaken': 27993,\n",
       "  u'totalHeal': 6406,\n",
       "  u'totalMinionsKilled': 32,\n",
       "  u'totalPlayerScore': 0,\n",
       "  u'totalScoreRank': 0,\n",
       "  u'totalTimeCrowdControlDealt': 451,\n",
       "  u'totalUnitsHealed': 1,\n",
       "  u'tripleKills': 0,\n",
       "  u'trueDamageDealt': 5356,\n",
       "  u'trueDamageDealtToChampions': 726,\n",
       "  u'trueDamageTaken': 644,\n",
       "  u'turretKills': 0,\n",
       "  u'unrealKills': 0,\n",
       "  u'visionScore': 26,\n",
       "  u'visionWardsBoughtInGame': 4,\n",
       "  u'wardsKilled': 0,\n",
       "  u'wardsPlaced': 13,\n",
       "  u'win': False},\n",
       " u'teamId': 100,\n",
       " u'timeline': {u'creepsPerMinDeltas': {u'0-10': 0.0, u'10-20': 0.6},\n",
       "  u'csDiffPerMinDeltas': {u'0-10': 0.0, u'10-20': 0.6},\n",
       "  u'damageTakenDiffPerMinDeltas': {u'0-10': 80.5,\n",
       "   u'10-20': 287.69999999999993},\n",
       "  u'damageTakenPerMinDeltas': {u'0-10': 698.5999999999999,\n",
       "   u'10-20': 1173.6999999999998},\n",
       "  u'goldPerMinDeltas': {u'0-10': 195.0, u'10-20': 294.5},\n",
       "  u'lane': u'JUNGLE',\n",
       "  u'participantId': 1,\n",
       "  u'role': u'NONE',\n",
       "  u'xpDiffPerMinDeltas': {u'0-10': -71.2, u'10-20': -148.89999999999998},\n",
       "  u'xpPerMinDeltas': {u'0-10': 252.8, u'10-20': 376.0}}}"
      ]
     },
     "execution_count": 70,
     "metadata": {},
     "output_type": "execute_result"
    }
   ],
   "source": [
    "coll.find_one()[\"data\"][\"participants\"][0]"
   ]
  },
  {
   "cell_type": "code",
   "execution_count": null,
   "metadata": {
    "collapsed": true
   },
   "outputs": [],
   "source": []
  }
 ],
 "metadata": {
  "kernelspec": {
   "display_name": "Python 2",
   "language": "python",
   "name": "python2"
  },
  "language_info": {
   "codemirror_mode": {
    "name": "ipython",
    "version": 2
   },
   "file_extension": ".py",
   "mimetype": "text/x-python",
   "name": "python",
   "nbconvert_exporter": "python",
   "pygments_lexer": "ipython2",
   "version": "2.7.13"
  }
 },
 "nbformat": 4,
 "nbformat_minor": 2
}
