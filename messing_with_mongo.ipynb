{
 "cells": [
  {
   "cell_type": "code",
   "execution_count": 10,
   "metadata": {
    "collapsed": true
   },
   "outputs": [],
   "source": [
    "import pymongo\n",
    "import pickle\n",
    "import time"
   ]
  },
  {
   "cell_type": "code",
   "execution_count": 11,
   "metadata": {
    "collapsed": true
   },
   "outputs": [],
   "source": [
    "client = pymongo.MongoClient(\"mongodb://localhost:37017\" )\n",
    "db=client[\"lol\"]\n",
    "coll=db[\"match_data\"]"
   ]
  },
  {
   "cell_type": "code",
   "execution_count": 12,
   "metadata": {},
   "outputs": [
    {
     "data": {
      "text/plain": [
       "[u'match_data', u'api_keys']"
      ]
     },
     "execution_count": 12,
     "metadata": {},
     "output_type": "execute_result"
    }
   ],
   "source": [
    "db.collection_names()"
   ]
  },
  {
   "cell_type": "code",
   "execution_count": 27,
   "metadata": {
    "collapsed": true
   },
   "outputs": [],
   "source": [
    "gameIds = set(pickle.load( open( \"2mill_gameIds.p\", \"rb\" ) ))"
   ]
  },
  {
   "cell_type": "code",
   "execution_count": 28,
   "metadata": {},
   "outputs": [
    {
     "data": {
      "text/plain": [
       "(199358, 191348)"
      ]
     },
     "execution_count": 28,
     "metadata": {},
     "output_type": "execute_result"
    }
   ],
   "source": [
    "len(gameIds), len(set(gameIds))"
   ]
  },
  {
   "cell_type": "code",
   "execution_count": 55,
   "metadata": {},
   "outputs": [
    {
     "data": {
      "text/plain": [
       "111541"
      ]
     },
     "execution_count": 55,
     "metadata": {},
     "output_type": "execute_result"
    }
   ],
   "source": [
    "coll.find({\"done\":\"true\"}).count()"
   ]
  },
  {
   "cell_type": "code",
   "execution_count": 59,
   "metadata": {},
   "outputs": [
    {
     "data": {
      "text/plain": [
       "19212"
      ]
     },
     "execution_count": 59,
     "metadata": {},
     "output_type": "execute_result"
    }
   ],
   "source": [
    "coll.find({\"batch\":0,\"done\":\"false\"}).count()"
   ]
  },
  {
   "cell_type": "code",
   "execution_count": 56,
   "metadata": {},
   "outputs": [
    {
     "data": {
      "text/plain": [
       "20583"
      ]
     },
     "execution_count": 56,
     "metadata": {},
     "output_type": "execute_result"
    }
   ],
   "source": [
    "coll.find({\"batch\":1,\"done\":\"false\"}).count()"
   ]
  },
  {
   "cell_type": "code",
   "execution_count": 53,
   "metadata": {},
   "outputs": [
    {
     "data": {
      "text/plain": [
       "0"
      ]
     },
     "execution_count": 53,
     "metadata": {},
     "output_type": "execute_result"
    }
   ],
   "source": [
    "coll.find({\"batch\":2,\"done\":\"false\"}).count()"
   ]
  },
  {
   "cell_type": "code",
   "execution_count": 57,
   "metadata": {},
   "outputs": [
    {
     "data": {
      "text/plain": [
       "17018"
      ]
     },
     "execution_count": 57,
     "metadata": {},
     "output_type": "execute_result"
    }
   ],
   "source": [
    "coll.find({\"batch\":3,\"done\":\"false\"}).count()"
   ]
  },
  {
   "cell_type": "code",
   "execution_count": 58,
   "metadata": {},
   "outputs": [
    {
     "data": {
      "text/plain": [
       "27241"
      ]
     },
     "execution_count": 58,
     "metadata": {},
     "output_type": "execute_result"
    }
   ],
   "source": [
    "coll.find({\"batch\":1,\"done\":\"true\"}).count()"
   ]
  },
  {
   "cell_type": "code",
   "execution_count": 89,
   "metadata": {},
   "outputs": [
    {
     "data": {
      "text/plain": [
       "{u'_id': 4, u'batch': 0, u'done': u'false', u'gameid': 2622605327L}"
      ]
     },
     "execution_count": 89,
     "metadata": {},
     "output_type": "execute_result"
    }
   ],
   "source": [
    "x=coll.find_one({\"batch\":0,\"done\":\"false\"})\n",
    "coll.find_one({\"batch\":0,\"done\":\"false\"})"
   ]
  },
  {
   "cell_type": "code",
   "execution_count": 91,
   "metadata": {},
   "outputs": [
    {
     "data": {
      "text/plain": [
       "<pymongo.results.UpdateResult at 0x7fca3f72cfa0>"
      ]
     },
     "execution_count": 91,
     "metadata": {},
     "output_type": "execute_result"
    }
   ],
   "source": [
    "coll.update_one({\"_id\":x[\"_id\"]},{\"$set\":{\"done\":\"true\",\"data\":\"hello\"}})"
   ]
  },
  {
   "cell_type": "code",
   "execution_count": null,
   "metadata": {
    "collapsed": true
   },
   "outputs": [],
   "source": []
  },
  {
   "cell_type": "code",
   "execution_count": 37,
   "metadata": {},
   "outputs": [
    {
     "data": {
      "text/plain": [
       "{u'_id': 86131,\n",
       " u'batch': 3,\n",
       " u'data': {u'status': {u'message': u'Forbidden', u'status_code': 403}},\n",
       " u'done': u'true',\n",
       " u'gameid': 2621479043L}"
      ]
     },
     "execution_count": 37,
     "metadata": {},
     "output_type": "execute_result"
    }
   ],
   "source": [
    "coll.find_one({\"done\":\"true\",\"data\":{\"status\":{\"message\":\"Forbidden\",\"status_code\":403}}})"
   ]
  },
  {
   "cell_type": "code",
   "execution_count": 26,
   "metadata": {},
   "outputs": [
    {
     "data": {
      "text/plain": [
       "0"
      ]
     },
     "execution_count": 26,
     "metadata": {},
     "output_type": "execute_result"
    }
   ],
   "source": [
    "coll.find({\"done\":\"true\",\"data\":{\"status\":{\"message\":\"Forbidden\",\"status_code\":403}}}).count()"
   ]
  },
  {
   "cell_type": "code",
   "execution_count": 90,
   "metadata": {
    "collapsed": true
   },
   "outputs": [],
   "source": [
    "entry_in_question=coll.find_one({\"done\":\"true\",\"data\":{\"status\":{\"message\":\"Forbidden\",\"status_code\":403}}})"
   ]
  },
  {
   "cell_type": "code",
   "execution_count": 92,
   "metadata": {},
   "outputs": [
    {
     "ename": "TypeError",
     "evalue": "'NoneType' object has no attribute '__getitem__'",
     "output_type": "error",
     "traceback": [
      "\u001b[0;31m---------------------------------------------------------------------------\u001b[0m",
      "\u001b[0;31mTypeError\u001b[0m                                 Traceback (most recent call last)",
      "\u001b[0;32m<ipython-input-92-79bf8d3bee81>\u001b[0m in \u001b[0;36m<module>\u001b[0;34m()\u001b[0m\n\u001b[0;32m----> 1\u001b[0;31m \u001b[0mentry_in_question\u001b[0m\u001b[0;34m[\u001b[0m\u001b[0;34m\"_id\"\u001b[0m\u001b[0;34m]\u001b[0m\u001b[0;34m\u001b[0m\u001b[0m\n\u001b[0m",
      "\u001b[0;31mTypeError\u001b[0m: 'NoneType' object has no attribute '__getitem__'"
     ]
    }
   ],
   "source": [
    "entry_in_question[\"_id\"]"
   ]
  },
  {
   "cell_type": "code",
   "execution_count": 88,
   "metadata": {},
   "outputs": [
    {
     "data": {
      "text/plain": [
       "<pymongo.results.UpdateResult at 0x7fc6c7f95af0>"
      ]
     },
     "execution_count": 88,
     "metadata": {},
     "output_type": "execute_result"
    }
   ],
   "source": [
    "coll.update_one({\"_id\":entry_in_question[\"_id\"]},{\"$set\":{\"done\":\"false\",\"data\":\"removed\"}})"
   ]
  },
  {
   "cell_type": "code",
   "execution_count": 89,
   "metadata": {},
   "outputs": [
    {
     "data": {
      "text/plain": [
       "[{u'_id': 86803,\n",
       "  u'batch': 3,\n",
       "  u'data': u'removed',\n",
       "  u'done': u'false',\n",
       "  u'gameid': 2606953288L}]"
      ]
     },
     "execution_count": 89,
     "metadata": {},
     "output_type": "execute_result"
    }
   ],
   "source": [
    "list(coll.find({\"_id\":entry_in_question[\"_id\"]}))"
   ]
  },
  {
   "cell_type": "code",
   "execution_count": 58,
   "metadata": {
    "collapsed": true
   },
   "outputs": [],
   "source": [
    "for _ in range(5):\n",
    "    entry_in_question=coll.find_one({\"done\":\"true\",\"data\":{\"status\":{\"message\":\"Forbidden\",\"status_code\":403}}})\n",
    "    coll.update_one({\"_id\":entry_in_question[\"_id\"]},{\"$set\":{\"done\":\"false\",\"data\":\"removed\"}})"
   ]
  },
  {
   "cell_type": "code",
   "execution_count": null,
   "metadata": {
    "collapsed": true
   },
   "outputs": [],
   "source": []
  },
  {
   "cell_type": "code",
   "execution_count": 70,
   "metadata": {},
   "outputs": [
    {
     "data": {
      "text/plain": [
       "{u'championId': 33,\n",
       " u'highestAchievedSeasonTier': u'SILVER',\n",
       " u'masteries': [{u'masteryId': 6114, u'rank': 5},\n",
       "  {u'masteryId': 6121, u'rank': 1},\n",
       "  {u'masteryId': 6134, u'rank': 5},\n",
       "  {u'masteryId': 6142, u'rank': 1},\n",
       "  {u'masteryId': 6211, u'rank': 5},\n",
       "  {u'masteryId': 6223, u'rank': 1},\n",
       "  {u'masteryId': 6231, u'rank': 5},\n",
       "  {u'masteryId': 6243, u'rank': 1},\n",
       "  {u'masteryId': 6252, u'rank': 5},\n",
       "  {u'masteryId': 6262, u'rank': 1}],\n",
       " u'participantId': 1,\n",
       " u'runes': [{u'rank': 9, u'runeId': 5247},\n",
       "  {u'rank': 9, u'runeId': 5295},\n",
       "  {u'rank': 9, u'runeId': 5316},\n",
       "  {u'rank': 2, u'runeId': 5347},\n",
       "  {u'rank': 1, u'runeId': 5355}],\n",
       " u'spell1Id': 4,\n",
       " u'spell2Id': 11,\n",
       " u'stats': {u'assists': 6,\n",
       "  u'champLevel': 12,\n",
       "  u'combatPlayerScore': 0,\n",
       "  u'damageDealtToObjectives': 1367,\n",
       "  u'damageDealtToTurrets': 117,\n",
       "  u'damageSelfMitigated': 35120,\n",
       "  u'deaths': 8,\n",
       "  u'doubleKills': 0,\n",
       "  u'firstBloodAssist': False,\n",
       "  u'firstBloodKill': False,\n",
       "  u'firstInhibitorAssist': False,\n",
       "  u'firstInhibitorKill': False,\n",
       "  u'firstTowerAssist': False,\n",
       "  u'firstTowerKill': False,\n",
       "  u'goldEarned': 7698,\n",
       "  u'goldSpent': 7125,\n",
       "  u'inhibitorKills': 0,\n",
       "  u'item0': 1413,\n",
       "  u'item1': 2032,\n",
       "  u'item2': 3075,\n",
       "  u'item3': 3047,\n",
       "  u'item4': 0,\n",
       "  u'item5': 0,\n",
       "  u'item6': 3340,\n",
       "  u'killingSprees': 0,\n",
       "  u'kills': 1,\n",
       "  u'largestCriticalStrike': 65,\n",
       "  u'largestKillingSpree': 0,\n",
       "  u'largestMultiKill': 1,\n",
       "  u'longestTimeSpentLiving': 280,\n",
       "  u'magicDamageDealt': 64665,\n",
       "  u'magicDamageDealtToChampions': 5464,\n",
       "  u'magicalDamageTaken': 7384,\n",
       "  u'neutralMinionsKilled': 76,\n",
       "  u'neutralMinionsKilledEnemyJungle': 0,\n",
       "  u'neutralMinionsKilledTeamJungle': 52,\n",
       "  u'objectivePlayerScore': 0,\n",
       "  u'participantId': 1,\n",
       "  u'pentaKills': 0,\n",
       "  u'physicalDamageDealt': 24101,\n",
       "  u'physicalDamageDealtToChampions': 1491,\n",
       "  u'physicalDamageTaken': 19964,\n",
       "  u'playerScore0': 0,\n",
       "  u'playerScore1': 0,\n",
       "  u'playerScore2': 0,\n",
       "  u'playerScore3': 0,\n",
       "  u'playerScore4': 0,\n",
       "  u'playerScore5': 0,\n",
       "  u'playerScore6': 0,\n",
       "  u'playerScore7': 0,\n",
       "  u'playerScore8': 0,\n",
       "  u'playerScore9': 0,\n",
       "  u'quadraKills': 0,\n",
       "  u'sightWardsBoughtInGame': 0,\n",
       "  u'timeCCingOthers': 27,\n",
       "  u'totalDamageDealt': 94122,\n",
       "  u'totalDamageDealtToChampions': 7681,\n",
       "  u'totalDamageTaken': 27993,\n",
       "  u'totalHeal': 6406,\n",
       "  u'totalMinionsKilled': 32,\n",
       "  u'totalPlayerScore': 0,\n",
       "  u'totalScoreRank': 0,\n",
       "  u'totalTimeCrowdControlDealt': 451,\n",
       "  u'totalUnitsHealed': 1,\n",
       "  u'tripleKills': 0,\n",
       "  u'trueDamageDealt': 5356,\n",
       "  u'trueDamageDealtToChampions': 726,\n",
       "  u'trueDamageTaken': 644,\n",
       "  u'turretKills': 0,\n",
       "  u'unrealKills': 0,\n",
       "  u'visionScore': 26,\n",
       "  u'visionWardsBoughtInGame': 4,\n",
       "  u'wardsKilled': 0,\n",
       "  u'wardsPlaced': 13,\n",
       "  u'win': False},\n",
       " u'teamId': 100,\n",
       " u'timeline': {u'creepsPerMinDeltas': {u'0-10': 0.0, u'10-20': 0.6},\n",
       "  u'csDiffPerMinDeltas': {u'0-10': 0.0, u'10-20': 0.6},\n",
       "  u'damageTakenDiffPerMinDeltas': {u'0-10': 80.5,\n",
       "   u'10-20': 287.69999999999993},\n",
       "  u'damageTakenPerMinDeltas': {u'0-10': 698.5999999999999,\n",
       "   u'10-20': 1173.6999999999998},\n",
       "  u'goldPerMinDeltas': {u'0-10': 195.0, u'10-20': 294.5},\n",
       "  u'lane': u'JUNGLE',\n",
       "  u'participantId': 1,\n",
       "  u'role': u'NONE',\n",
       "  u'xpDiffPerMinDeltas': {u'0-10': -71.2, u'10-20': -148.89999999999998},\n",
       "  u'xpPerMinDeltas': {u'0-10': 252.8, u'10-20': 376.0}}}"
      ]
     },
     "execution_count": 70,
     "metadata": {},
     "output_type": "execute_result"
    }
   ],
   "source": [
    "coll.find_one()[\"data\"][\"participants\"][0]"
   ]
  },
  {
   "cell_type": "code",
   "execution_count": 25,
   "metadata": {},
   "outputs": [
    {
     "data": {
      "text/plain": [
       "74038"
      ]
     },
     "execution_count": 25,
     "metadata": {},
     "output_type": "execute_result"
    }
   ],
   "source": [
    "coll.find({\"done\":\"true\"}).count()"
   ]
  },
  {
   "cell_type": "code",
   "execution_count": 8,
   "metadata": {
    "collapsed": true
   },
   "outputs": [],
   "source": [
    "x=coll.find({\"done\":\"false\",\"batch\":2})"
   ]
  },
  {
   "cell_type": "code",
   "execution_count": 12,
   "metadata": {},
   "outputs": [
    {
     "data": {
      "text/plain": [
       "23990"
      ]
     },
     "execution_count": 12,
     "metadata": {},
     "output_type": "execute_result"
    }
   ],
   "source": [
    "x.count()"
   ]
  },
  {
   "cell_type": "code",
   "execution_count": 13,
   "metadata": {},
   "outputs": [
    {
     "data": {
      "text/plain": [
       "{u'_id': 95390, u'batch': 2, u'done': u'false', u'gameid': 2606628103L}"
      ]
     },
     "execution_count": 13,
     "metadata": {},
     "output_type": "execute_result"
    }
   ],
   "source": [
    "coll.find_one({\"done\":\"false\",\"batch\":2})"
   ]
  },
  {
   "cell_type": "code",
   "execution_count": 15,
   "metadata": {
    "collapsed": true
   },
   "outputs": [],
   "source": [
    "dd=[x[\"_id\"] for x in coll.find({\"done\":\"false\",\"batch\":2})]"
   ]
  },
  {
   "cell_type": "code",
   "execution_count": 16,
   "metadata": {},
   "outputs": [
    {
     "data": {
      "text/plain": [
       "23990"
      ]
     },
     "execution_count": 16,
     "metadata": {},
     "output_type": "execute_result"
    }
   ],
   "source": [
    "len(dd)"
   ]
  },
  {
   "cell_type": "code",
   "execution_count": 17,
   "metadata": {},
   "outputs": [
    {
     "name": "stdout",
     "output_type": "stream",
     "text": [
      "{u'_id': 95390, u'done': u'false', u'batch': 2, u'gameid': 2606628103L}\n",
      "{u'_id': 95394, u'done': u'false', u'batch': 2, u'gameid': 2619076151L}\n",
      "{u'_id': 95398, u'done': u'false', u'batch': 2, u'gameid': 2608066111L}\n",
      "{u'_id': 95402, u'done': u'false', u'batch': 2, u'gameid': 2600726088L}\n",
      "{u'_id': 95406, u'done': u'false', u'batch': 2, u'gameid': 2620649038L}\n",
      "{u'_id': 95410, u'done': u'false', u'batch': 2, u'gameid': 2621173338L}\n",
      "{u'_id': 95414, u'done': u'false', u'batch': 2, u'gameid': 2616979040L}\n",
      "{u'_id': 95418, u'done': u'false', u'batch': 2, u'gameid': 2621697643L}\n",
      "{u'_id': 95422, u'done': u'false', u'batch': 2, u'gameid': 2616454770L}\n",
      "{u'_id': 95426, u'done': u'false', u'batch': 2, u'gameid': 2622007231L}\n",
      "{u'_id': 95430, u'done': u'false', u'batch': 2, u'gameid': 2621173376L}\n",
      "{u'_id': 95434, u'done': u'false', u'batch': 2, u'gameid': 2573987461L}\n",
      "{u'_id': 95438, u'done': u'false', u'batch': 2, u'gameid': 2616979087L}\n",
      "{u'_id': 95442, u'done': u'false', u'batch': 2, u'gameid': 2622746262L}\n",
      "{u'_id': 95446, u'done': u'false', u'batch': 2, u'gameid': 2621173409L}\n",
      "{u'_id': 95450, u'done': u'false', u'batch': 2, u'gameid': 2619600554L}\n",
      "{u'_id': 95454, u'done': u'false', u'batch': 2, u'gameid': 2622746293L}\n",
      "{u'_id': 95458, u'done': u'false', u'batch': 2, u'gameid': 2596007616L}\n",
      "{u'_id': 95462, u'done': u'false', u'batch': 2, u'gameid': 2613833423L}\n",
      "{u'_id': 95466, u'done': u'false', u'batch': 2, u'gameid': 2602259065L}\n",
      "{u'_id': 95470, u'done': u'false', u'batch': 2, u'gameid': 2622746336L}\n",
      "{u'_id': 95474, u'done': u'false', u'batch': 2, u'gameid': 2617503466L}\n",
      "{u'_id': 95478, u'done': u'false', u'batch': 2, u'gameid': 2616454896L}\n",
      "{u'_id': 95482, u'done': u'false', u'batch': 2, u'gameid': 2621697782L}\n",
      "{u'_id': 95486, u'done': u'false', u'batch': 2, u'gameid': 2616979208L}\n",
      "{u'_id': 95490, u'done': u'false', u'batch': 2, u'gameid': 2621173517L}\n",
      "{u'_id': 95494, u'done': u'false', u'batch': 2, u'gameid': 2622222099L}\n",
      "{u'_id': 95498, u'done': u'false', u'batch': 2, u'gameid': 2600726304L}\n",
      "{u'_id': 95502, u'done': u'false', u'batch': 2, u'gameid': 2616454949L}\n",
      "{u'_id': 95506, u'done': u'false', u'batch': 2, u'gameid': 2622736119L}\n",
      "{u'_id': 95510, u'done': u'false', u'batch': 2, u'gameid': 2621697845L}\n",
      "{u'_id': 95514, u'done': u'false', u'batch': 2, u'gameid': 2622746430L}\n",
      "{u'_id': 95518, u'done': u'false', u'batch': 2, u'gameid': 478408522}\n",
      "{u'_id': 95522, u'done': u'false', u'batch': 2, u'gameid': 2621173583L}\n",
      "{u'_id': 95526, u'done': u'false', u'batch': 2, u'gameid': 2592862040L}\n",
      "{u'_id': 95530, u'done': u'false', u'batch': 2, u'gameid': 2619600735L}\n",
      "{u'_id': 95534, u'done': u'false', u'batch': 2, u'gameid': 2622222180L}\n",
      "{u'_id': 95538, u'done': u'false', u'batch': 2, u'gameid': 2589192053L}\n",
      "{u'_id': 95542, u'done': u'false', u'batch': 2, u'gameid': 2620449113L}\n",
      "{u'_id': 95546, u'done': u'false', u'batch': 2, u'gameid': 2616939158L}\n",
      "{u'_id': 95550, u'done': u'false', u'batch': 2, u'gameid': 2596142402L}\n",
      "{u'_id': 95554, u'done': u'false', u'batch': 2, u'gameid': 2591813524L}\n",
      "{u'_id': 95558, u'done': u'false', u'batch': 2, u'gameid': 2617503645L}\n",
      "{u'_id': 95562, u'done': u'false', u'batch': 2, u'gameid': 2621025231L}\n",
      "{u'_id': 95566, u'done': u'false', u'batch': 2, u'gameid': 2613238927L}\n",
      "{u'_id': 95570, u'done': u'false', u'batch': 2, u'gameid': 2591289269L}\n",
      "{u'_id': 95574, u'done': u'false', u'batch': 2, u'gameid': 2618599413L}\n",
      "{u'_id': 95578, u'done': u'false', u'batch': 2, u'gameid': 2613833672L}\n",
      "{u'_id': 95582, u'done': u'false', u'batch': 2, u'gameid': 2619600846L}\n",
      "{u'_id': 95586, u'done': u'false', u'batch': 2, u'gameid': 2620649433L}\n",
      "{u'_id': 95590, u'done': u'false', u'batch': 2, u'gameid': 2611212258L}\n",
      "{u'_id': 95594, u'done': u'false', u'batch': 2, u'gameid': 2589192169L}\n",
      "{u'_id': 95598, u'done': u'false', u'batch': 2, u'gameid': 2612260847L}\n",
      "{u'_id': 95602, u'done': u'false', u'batch': 2, u'gameid': 2619600890L}\n",
      "{u'_id': 95606, u'done': u'false', u'batch': 2, u'gameid': 2621133483L}\n",
      "{u'_id': 95610, u'done': u'false', u'batch': 2, u'gameid': 2622222344L}\n",
      "{u'_id': 95614, u'done': u'false', u'batch': 2, u'gameid': 2573463568L}\n",
      "{u'_id': 95618, u'done': u'false', u'batch': 2, u'gameid': 2621173781L}\n",
      "{u'_id': 95622, u'done': u'false', u'batch': 2, u'gameid': 2622222364L}\n",
      "{u'_id': 95626, u'done': u'false', u'batch': 2, u'gameid': 2622746662L}\n",
      "{u'_id': 95630, u'done': u'false', u'batch': 2, u'gameid': 2615930926L}\n",
      "{u'_id': 95634, u'done': u'false', u'batch': 2, u'gameid': 2603872317L}\n",
      "{u'_id': 95638, u'done': u'false', u'batch': 2, u'gameid': 2616327521L}\n",
      "{u'_id': 95642, u'done': u'false', u'batch': 2, u'gameid': 2604920917L}\n",
      "{u'_id': 95646, u'done': u'false', u'batch': 2, u'gameid': 2601250906L}\n",
      "{u'_id': 95650, u'done': u'false', u'batch': 2, u'gameid': 2622222448L}\n",
      "{u'_id': 95654, u'done': u'false', u'batch': 2, u'gameid': 2616979578L}\n",
      "{u'_id': 95658, u'done': u'false', u'batch': 2, u'gameid': 2601250951L}\n",
      "{u'_id': 95662, u'done': u'false', u'batch': 2, u'gameid': 2622746765L}\n",
      "{u'_id': 95666, u'done': u'false', u'batch': 2, u'gameid': 2600726677L}\n",
      "{u'_id': 95670, u'done': u'false', u'batch': 2, u'gameid': 2622683757L}\n",
      "{u'_id': 95674, u'done': u'false', u'batch': 2, u'gameid': 2621698219L}\n",
      "{u'_id': 95678, u'done': u'false', u'batch': 2, u'gameid': 2611212467L}\n",
      "{u'_id': 95682, u'done': u'false', u'batch': 2, u'gameid': 2621698234L}\n",
      "{u'_id': 95686, u'done': u'false', u'batch': 2, u'gameid': 2621698250L}\n",
      "{u'_id': 95690, u'done': u'false', u'batch': 2, u'gameid': 2592472440L}\n",
      "{u'_id': 95694, u'done': u'false', u'batch': 2, u'gameid': 2621173974L}\n",
      "{u'_id': 95698, u'done': u'false', u'batch': 2, u'gameid': 2618424698L}\n",
      "{u'_id': 95702, u'done': u'false', u'batch': 2, u'gameid': 2622222575L}\n",
      "{u'_id': 95706, u'done': u'false', u'batch': 2, u'gameid': 2620649719L}\n",
      "{u'_id': 95710, u'done': u'false', u'batch': 2, u'gameid': 2622746882L}\n",
      "{u'_id': 95714, u'done': u'false', u'batch': 2, u'gameid': 2615453741L}\n",
      "{u'_id': 95718, u'done': u'false', u'batch': 2, u'gameid': 2587619604L}\n",
      "{u'_id': 95722, u'done': u'false', u'batch': 2, u'gameid': 2603872537L}\n",
      "{u'_id': 95726, u'done': u'false', u'batch': 2, u'gameid': 2618948997L}\n",
      "{u'_id': 95730, u'done': u'false', u'batch': 2, u'gameid': 2620649766L}\n",
      "{u'_id': 95734, u'done': u'false', u'batch': 2, u'gameid': 2606016562L}\n",
      "{u'_id': 95738, u'done': u'false', u'batch': 2, u'gameid': 2590241076L}\n",
      "{u'_id': 95742, u'done': u'false', u'batch': 2, u'gameid': 2620649793L}\n",
      "{u'_id': 95746, u'done': u'false', u'batch': 2, u'gameid': 2621174095L}\n",
      "{u'_id': 95750, u'done': u'false', u'batch': 2, u'gameid': 2590765403L}\n",
      "{u'_id': 95754, u'done': u'false', u'batch': 2, u'gameid': 2621174118L}\n",
      "{u'_id': 95758, u'done': u'false', u'batch': 2, u'gameid': 2619601266L}\n",
      "{u'_id': 95762, u'done': u'false', u'batch': 2, u'gameid': 2622222711L}\n",
      "{u'_id': 95766, u'done': u'false', u'batch': 2, u'gameid': 2581852547L}\n",
      "{u'_id': 95770, u'done': u'false', u'batch': 2, u'gameid': 2616979852L}\n",
      "{u'_id': 95774, u'done': u'false', u'batch': 2, u'gameid': 2613309846L}\n",
      "{u'_id': 95778, u'done': u'false', u'batch': 2, u'gameid': 2622222753L}\n",
      "{u'_id': 95782, u'done': u'false', u'batch': 2, u'gameid': 2590765484L}\n",
      "{u'_id': 95786, u'done': u'false', u'batch': 2, u'gameid': 2611212728L}\n",
      "{u'_id': 95790, u'done': u'false', u'batch': 2, u'gameid': 2616455620L}\n",
      "{u'_id': 95794, u'done': u'false', u'batch': 2, u'gameid': 2621174221L}\n",
      "{u'_id': 95798, u'done': u'false', u'batch': 2, u'gameid': 2621698520L}\n",
      "{u'_id': 95802, u'done': u'false', u'batch': 2, u'gameid': 2622222814L}\n",
      "{u'_id': 95806, u'done': u'false', u'batch': 2, u'gameid': 2611212777L}\n",
      "{u'_id': 95810, u'done': u'false', u'batch': 2, u'gameid': 2621174255L}\n",
      "{u'_id': 95814, u'done': u'false', u'batch': 2, u'gameid': 2622747125L}\n",
      "{u'_id': 95818, u'done': u'false', u'batch': 2, u'gameid': 2620649984L}\n",
      "{u'_id': 95822, u'done': u'false', u'batch': 2, u'gameid': 2616979983L}\n",
      "{u'_id': 95826, u'done': u'false', u'batch': 2, u'gameid': 2615407131L}\n",
      "{u'_id': 95830, u'done': u'false', u'batch': 2, u'gameid': 2586571300L}\n",
      "{u'_id': 95834, u'done': u'false', u'batch': 2, u'gameid': 2622747184L}\n",
      "{u'_id': 95838, u'done': u'false', u'batch': 2, u'gameid': 2616065460L}\n",
      "{u'_id': 95842, u'done': u'false', u'batch': 2, u'gameid': 2581852740L}\n"
     ]
    },
    {
     "name": "stdout",
     "output_type": "stream",
     "text": [
      "{u'_id': 95846, u'done': u'false', u'batch': 2, u'gameid': 2622222921L}\n",
      "{u'_id': 95850, u'done': u'false', u'batch': 2, u'gameid': 2616413364L}\n",
      "{u'_id': 95854, u'done': u'false', u'batch': 2, u'gameid': 2622222955L}\n",
      "{u'_id': 95858, u'done': u'false', u'batch': 2, u'gameid': 2616455794L}\n",
      "{u'_id': 95862, u'done': u'false', u'batch': 2, u'gameid': 2622793834L}\n",
      "{u'_id': 95866, u'done': u'false', u'batch': 2, u'gameid': 2620650116L}\n",
      "{u'_id': 95870, u'done': u'false', u'batch': 2, u'gameid': 2621174419L}\n",
      "{u'_id': 95874, u'done': u'false', u'batch': 2, u'gameid': 2613310107L}\n",
      "{u'_id': 95878, u'done': u'false', u'batch': 2, u'gameid': 2618552998L}\n",
      "{u'_id': 95882, u'done': u'false', u'batch': 2, u'gameid': 2616980142L}\n",
      "{u'_id': 95886, u'done': u'false', u'batch': 2, u'gameid': 2619601587L}\n",
      "{u'_id': 95890, u'done': u'false', u'batch': 2, u'gameid': 2616980157L}\n",
      "{u'_id': 95894, u'done': u'false', u'batch': 2, u'gameid': 2621698758L}\n",
      "{u'_id': 95898, u'done': u'false', u'batch': 2, u'gameid': 2619077324L}\n",
      "{u'_id': 95902, u'done': u'false', u'batch': 2, u'gameid': 2621483128L}\n",
      "{u'_id': 95906, u'done': u'false', u'batch': 2, u'gameid': 2598630108L}\n",
      "{u'_id': 95910, u'done': u'false', u'batch': 2, u'gameid': 2622747369L}\n",
      "{u'_id': 95914, u'done': u'false', u'batch': 2, u'gameid': 2622747374L}\n",
      "{u'_id': 95918, u'done': u'false', u'batch': 2, u'gameid': 2621174517L}\n",
      "{u'_id': 95922, u'done': u'false', u'batch': 2, u'gameid': 2621483135L}\n",
      "{u'_id': 95926, u'done': u'false', u'batch': 2, u'gameid': 2614143104L}\n",
      "{u'_id': 95930, u'done': u'false', u'batch': 2, u'gameid': 2617504520L}\n",
      "{u'_id': 95934, u'done': u'false', u'batch': 2, u'gameid': 2619925401L}\n",
      "{u'_id': 95938, u'done': u'false', u'batch': 2, u'gameid': 2622706480L}\n",
      "{u'_id': 95942, u'done': u'false', u'batch': 2, u'gameid': 2621698858L}\n",
      "{u'_id': 95946, u'done': u'false', u'batch': 2, u'gameid': 2621174578L}\n",
      "{u'_id': 95950, u'done': u'false', u'batch': 2, u'gameid': 2619601720L}\n",
      "{u'_id': 95954, u'done': u'false', u'batch': 2, u'gameid': 2621221003L}\n",
      "{u'_id': 95958, u'done': u'false', u'batch': 2, u'gameid': 2596404706L}\n",
      "{u'_id': 95962, u'done': u'false', u'batch': 2, u'gameid': 2615407444L}\n",
      "{u'_id': 95966, u'done': u'false', u'batch': 2, u'gameid': 2621698911L}\n",
      "{u'_id': 95970, u'done': u'false', u'batch': 2, u'gameid': 2616456040L}\n",
      "{u'_id': 95974, u'done': u'false', u'batch': 2, u'gameid': 2620126062L}\n",
      "{u'_id': 95978, u'done': u'false', u'batch': 2, u'gameid': 2620650354L}\n",
      "{u'_id': 95982, u'done': u'false', u'batch': 2, u'gameid': 2622747513L}\n",
      "{u'_id': 95986, u'done': u'false', u'batch': 2, u'gameid': 2619077504L}\n",
      "{u'_id': 95990, u'done': u'false', u'batch': 2, u'gameid': 2621174667L}\n",
      "{u'_id': 95994, u'done': u'false', u'batch': 2, u'gameid': 2622747541L}\n",
      "{u'_id': 95998, u'done': u'false', u'batch': 2, u'gameid': 2620872131L}\n",
      "{u'_id': 96002, u'done': u'false', u'batch': 2, u'gameid': 2611213224L}\n",
      "{u'_id': 96006, u'done': u'false', u'batch': 2, u'gameid': 2592338865L}\n",
      "{u'_id': 96010, u'done': u'false', u'batch': 2, u'gameid': 2619560777L}\n",
      "{u'_id': 96014, u'done': u'false', u'batch': 2, u'gameid': 2622619126L}\n",
      "{u'_id': 96018, u'done': u'false', u'batch': 2, u'gameid': 2618553303L}\n",
      "{u'_id': 96022, u'done': u'false', u'batch': 2, u'gameid': 2621699044L}\n",
      "{u'_id': 96026, u'done': u'false', u'batch': 2, u'gameid': 2601315094L}\n",
      "{u'_id': 96030, u'done': u'false', u'batch': 2, u'gameid': 2581853182L}\n",
      "{u'_id': 96034, u'done': u'false', u'batch': 2, u'gameid': 2616980487L}\n",
      "{u'_id': 96038, u'done': u'false', u'batch': 2, u'gameid': 2613834770L}\n",
      "{u'_id': 96042, u'done': u'false', u'batch': 2, u'gameid': 2619750829L}\n",
      "{u'_id': 96046, u'done': u'false', u'batch': 2, u'gameid': 2618553378L}\n",
      "{u'_id': 96050, u'done': u'false', u'batch': 2, u'gameid': 2616980523L}\n",
      "{u'_id': 96054, u'done': u'false', u'batch': 2, u'gameid': 2621174835L}\n",
      "{u'_id': 96058, u'done': u'false', u'batch': 2, u'gameid': 2620650552L}\n",
      "{u'_id': 96062, u'done': u'false', u'batch': 2, u'gameid': 2622747716L}\n",
      "{u'_id': 96066, u'done': u'false', u'batch': 2, u'gameid': 2611213390L}\n",
      "{u'_id': 96070, u'done': u'false', u'batch': 2, u'gameid': 2622747731L}\n",
      "{u'_id': 96074, u'done': u'false', u'batch': 2, u'gameid': 2622090214L}\n",
      "{u'_id': 96078, u'done': u'false', u'batch': 2, u'gameid': 2621699172L}\n",
      "{u'_id': 96082, u'done': u'false', u'batch': 2, u'gameid': 2621174894L}\n",
      "{u'_id': 96086, u'done': u'false', u'batch': 2, u'gameid': 2621234769L}\n",
      "{u'_id': 96090, u'done': u'false', u'batch': 2, u'gameid': 2611213445L}\n",
      "{u'_id': 96094, u'done': u'false', u'batch': 2, u'gameid': 2622747790L}\n",
      "{u'_id': 96098, u'done': u'false', u'batch': 2, u'gameid': 2622747801L}\n",
      "{u'_id': 96102, u'done': u'false', u'batch': 2, u'gameid': 2586091653L}\n",
      "{u'_id': 96106, u'done': u'false', u'batch': 2, u'gameid': 2611213480L}\n",
      "{u'_id': 96110, u'done': u'false', u'batch': 2, u'gameid': 2621699248L}\n"
     ]
    },
    {
     "ename": "KeyboardInterrupt",
     "evalue": "",
     "output_type": "error",
     "traceback": [
      "\u001b[0;31m---------------------------------------------------------------------------\u001b[0m",
      "\u001b[0;31mKeyboardInterrupt\u001b[0m                         Traceback (most recent call last)",
      "\u001b[0;32m<ipython-input-17-21f256549e94>\u001b[0m in \u001b[0;36m<module>\u001b[0;34m()\u001b[0m\n\u001b[1;32m      1\u001b[0m \u001b[0;32mfor\u001b[0m \u001b[0m_id\u001b[0m \u001b[0;32min\u001b[0m \u001b[0mdd\u001b[0m\u001b[0;34m:\u001b[0m\u001b[0;34m\u001b[0m\u001b[0m\n\u001b[0;32m----> 2\u001b[0;31m     \u001b[0;32mprint\u001b[0m \u001b[0mcoll\u001b[0m\u001b[0;34m.\u001b[0m\u001b[0mfind_one\u001b[0m\u001b[0;34m(\u001b[0m\u001b[0;34m{\u001b[0m\u001b[0;34m\"_id\"\u001b[0m\u001b[0;34m:\u001b[0m\u001b[0m_id\u001b[0m\u001b[0;34m}\u001b[0m\u001b[0;34m)\u001b[0m\u001b[0;34m\u001b[0m\u001b[0m\n\u001b[0m",
      "\u001b[0;32m/home/bryce/anaconda2/lib/python2.7/site-packages/pymongo/collection.pyc\u001b[0m in \u001b[0;36mfind_one\u001b[0;34m(self, filter, *args, **kwargs)\u001b[0m\n\u001b[1;32m   1100\u001b[0m                            *args, **kwargs).max_time_ms(max_time_ms)\n\u001b[1;32m   1101\u001b[0m \u001b[0;34m\u001b[0m\u001b[0m\n\u001b[0;32m-> 1102\u001b[0;31m         \u001b[0;32mfor\u001b[0m \u001b[0mresult\u001b[0m \u001b[0;32min\u001b[0m \u001b[0mcursor\u001b[0m\u001b[0;34m.\u001b[0m\u001b[0mlimit\u001b[0m\u001b[0;34m(\u001b[0m\u001b[0;34m-\u001b[0m\u001b[0;36m1\u001b[0m\u001b[0;34m)\u001b[0m\u001b[0;34m:\u001b[0m\u001b[0;34m\u001b[0m\u001b[0m\n\u001b[0m\u001b[1;32m   1103\u001b[0m             \u001b[0;32mreturn\u001b[0m \u001b[0mresult\u001b[0m\u001b[0;34m\u001b[0m\u001b[0m\n\u001b[1;32m   1104\u001b[0m         \u001b[0;32mreturn\u001b[0m \u001b[0mNone\u001b[0m\u001b[0;34m\u001b[0m\u001b[0m\n",
      "\u001b[0;32m/home/bryce/anaconda2/lib/python2.7/site-packages/pymongo/cursor.pyc\u001b[0m in \u001b[0;36mnext\u001b[0;34m(self)\u001b[0m\n\u001b[1;32m   1112\u001b[0m             \u001b[0;32mraise\u001b[0m \u001b[0mStopIteration\u001b[0m\u001b[0;34m\u001b[0m\u001b[0m\n\u001b[1;32m   1113\u001b[0m         \u001b[0m_db\u001b[0m \u001b[0;34m=\u001b[0m \u001b[0mself\u001b[0m\u001b[0;34m.\u001b[0m\u001b[0m__collection\u001b[0m\u001b[0;34m.\u001b[0m\u001b[0mdatabase\u001b[0m\u001b[0;34m\u001b[0m\u001b[0m\n\u001b[0;32m-> 1114\u001b[0;31m         \u001b[0;32mif\u001b[0m \u001b[0mlen\u001b[0m\u001b[0;34m(\u001b[0m\u001b[0mself\u001b[0m\u001b[0;34m.\u001b[0m\u001b[0m__data\u001b[0m\u001b[0;34m)\u001b[0m \u001b[0;32mor\u001b[0m \u001b[0mself\u001b[0m\u001b[0;34m.\u001b[0m\u001b[0m_refresh\u001b[0m\u001b[0;34m(\u001b[0m\u001b[0;34m)\u001b[0m\u001b[0;34m:\u001b[0m\u001b[0;34m\u001b[0m\u001b[0m\n\u001b[0m\u001b[1;32m   1115\u001b[0m             \u001b[0;32mif\u001b[0m \u001b[0mself\u001b[0m\u001b[0;34m.\u001b[0m\u001b[0m__manipulate\u001b[0m\u001b[0;34m:\u001b[0m\u001b[0;34m\u001b[0m\u001b[0m\n\u001b[1;32m   1116\u001b[0m                 return _db._fix_outgoing(self.__data.popleft(),\n",
      "\u001b[0;32m/home/bryce/anaconda2/lib/python2.7/site-packages/pymongo/cursor.pyc\u001b[0m in \u001b[0;36m_refresh\u001b[0;34m(self)\u001b[0m\n\u001b[1;32m   1034\u001b[0m                                        \u001b[0mself\u001b[0m\u001b[0;34m.\u001b[0m\u001b[0m__batch_size\u001b[0m\u001b[0;34m,\u001b[0m\u001b[0;34m\u001b[0m\u001b[0m\n\u001b[1;32m   1035\u001b[0m                                        \u001b[0mself\u001b[0m\u001b[0;34m.\u001b[0m\u001b[0m__read_concern\u001b[0m\u001b[0;34m,\u001b[0m\u001b[0;34m\u001b[0m\u001b[0m\n\u001b[0;32m-> 1036\u001b[0;31m                                        self.__collation))\n\u001b[0m\u001b[1;32m   1037\u001b[0m             \u001b[0;32mif\u001b[0m \u001b[0;32mnot\u001b[0m \u001b[0mself\u001b[0m\u001b[0;34m.\u001b[0m\u001b[0m__id\u001b[0m\u001b[0;34m:\u001b[0m\u001b[0;34m\u001b[0m\u001b[0m\n\u001b[1;32m   1038\u001b[0m                 \u001b[0mself\u001b[0m\u001b[0;34m.\u001b[0m\u001b[0m__killed\u001b[0m \u001b[0;34m=\u001b[0m \u001b[0mTrue\u001b[0m\u001b[0;34m\u001b[0m\u001b[0m\n",
      "\u001b[0;32m/home/bryce/anaconda2/lib/python2.7/site-packages/pymongo/cursor.pyc\u001b[0m in \u001b[0;36m__send_message\u001b[0;34m(self, operation)\u001b[0m\n\u001b[1;32m    871\u001b[0m             \u001b[0;32mtry\u001b[0m\u001b[0;34m:\u001b[0m\u001b[0;34m\u001b[0m\u001b[0m\n\u001b[1;32m    872\u001b[0m                 response = client._send_message_with_response(operation,\n\u001b[0;32m--> 873\u001b[0;31m                                                               **kwargs)\n\u001b[0m\u001b[1;32m    874\u001b[0m                 \u001b[0mself\u001b[0m\u001b[0;34m.\u001b[0m\u001b[0m__address\u001b[0m \u001b[0;34m=\u001b[0m \u001b[0mresponse\u001b[0m\u001b[0;34m.\u001b[0m\u001b[0maddress\u001b[0m\u001b[0;34m\u001b[0m\u001b[0m\n\u001b[1;32m    875\u001b[0m                 \u001b[0;32mif\u001b[0m \u001b[0mself\u001b[0m\u001b[0;34m.\u001b[0m\u001b[0m__exhaust\u001b[0m\u001b[0;34m:\u001b[0m\u001b[0;34m\u001b[0m\u001b[0m\n",
      "\u001b[0;32m/home/bryce/anaconda2/lib/python2.7/site-packages/pymongo/mongo_client.pyc\u001b[0m in \u001b[0;36m_send_message_with_response\u001b[0;34m(self, operation, read_preference, exhaust, address)\u001b[0m\n\u001b[1;32m    903\u001b[0m             \u001b[0mself\u001b[0m\u001b[0;34m.\u001b[0m\u001b[0m__all_credentials\u001b[0m\u001b[0;34m,\u001b[0m\u001b[0;34m\u001b[0m\u001b[0m\n\u001b[1;32m    904\u001b[0m             \u001b[0mself\u001b[0m\u001b[0;34m.\u001b[0m\u001b[0m_event_listeners\u001b[0m\u001b[0;34m,\u001b[0m\u001b[0;34m\u001b[0m\u001b[0m\n\u001b[0;32m--> 905\u001b[0;31m             exhaust)\n\u001b[0m\u001b[1;32m    906\u001b[0m \u001b[0;34m\u001b[0m\u001b[0m\n\u001b[1;32m    907\u001b[0m     \u001b[0;32mdef\u001b[0m \u001b[0m_reset_on_error\u001b[0m\u001b[0;34m(\u001b[0m\u001b[0mself\u001b[0m\u001b[0;34m,\u001b[0m \u001b[0mserver\u001b[0m\u001b[0;34m,\u001b[0m \u001b[0mfunc\u001b[0m\u001b[0;34m,\u001b[0m \u001b[0;34m*\u001b[0m\u001b[0margs\u001b[0m\u001b[0;34m,\u001b[0m \u001b[0;34m**\u001b[0m\u001b[0mkwargs\u001b[0m\u001b[0;34m)\u001b[0m\u001b[0;34m:\u001b[0m\u001b[0;34m\u001b[0m\u001b[0m\n",
      "\u001b[0;32m/home/bryce/anaconda2/lib/python2.7/site-packages/pymongo/mongo_client.pyc\u001b[0m in \u001b[0;36m_reset_on_error\u001b[0;34m(self, server, func, *args, **kwargs)\u001b[0m\n\u001b[1;32m    914\u001b[0m         \"\"\"\n\u001b[1;32m    915\u001b[0m         \u001b[0;32mtry\u001b[0m\u001b[0;34m:\u001b[0m\u001b[0;34m\u001b[0m\u001b[0m\n\u001b[0;32m--> 916\u001b[0;31m             \u001b[0;32mreturn\u001b[0m \u001b[0mfunc\u001b[0m\u001b[0;34m(\u001b[0m\u001b[0;34m*\u001b[0m\u001b[0margs\u001b[0m\u001b[0;34m,\u001b[0m \u001b[0;34m**\u001b[0m\u001b[0mkwargs\u001b[0m\u001b[0;34m)\u001b[0m\u001b[0;34m\u001b[0m\u001b[0m\n\u001b[0m\u001b[1;32m    917\u001b[0m         \u001b[0;32mexcept\u001b[0m \u001b[0mNetworkTimeout\u001b[0m\u001b[0;34m:\u001b[0m\u001b[0;34m\u001b[0m\u001b[0m\n\u001b[1;32m    918\u001b[0m             \u001b[0;31m# The socket has been closed. Don't reset the server.\u001b[0m\u001b[0;34m\u001b[0m\u001b[0;34m\u001b[0m\u001b[0m\n",
      "\u001b[0;32m/home/bryce/anaconda2/lib/python2.7/site-packages/pymongo/server.pyc\u001b[0m in \u001b[0;36msend_message_with_response\u001b[0;34m(self, operation, set_slave_okay, all_credentials, listeners, exhaust)\u001b[0m\n\u001b[1;32m    134\u001b[0m             \u001b[0;32mtry\u001b[0m\u001b[0;34m:\u001b[0m\u001b[0;34m\u001b[0m\u001b[0m\n\u001b[1;32m    135\u001b[0m                 \u001b[0msock_info\u001b[0m\u001b[0;34m.\u001b[0m\u001b[0msend_message\u001b[0m\u001b[0;34m(\u001b[0m\u001b[0mdata\u001b[0m\u001b[0;34m,\u001b[0m \u001b[0mmax_doc_size\u001b[0m\u001b[0;34m)\u001b[0m\u001b[0;34m\u001b[0m\u001b[0m\n\u001b[0;32m--> 136\u001b[0;31m                 \u001b[0mresponse_data\u001b[0m \u001b[0;34m=\u001b[0m \u001b[0msock_info\u001b[0m\u001b[0;34m.\u001b[0m\u001b[0mreceive_message\u001b[0m\u001b[0;34m(\u001b[0m\u001b[0;36m1\u001b[0m\u001b[0;34m,\u001b[0m \u001b[0mrequest_id\u001b[0m\u001b[0;34m)\u001b[0m\u001b[0;34m\u001b[0m\u001b[0m\n\u001b[0m\u001b[1;32m    137\u001b[0m             \u001b[0;32mexcept\u001b[0m \u001b[0mException\u001b[0m \u001b[0;32mas\u001b[0m \u001b[0mexc\u001b[0m\u001b[0;34m:\u001b[0m\u001b[0;34m\u001b[0m\u001b[0m\n\u001b[1;32m    138\u001b[0m                 \u001b[0;32mif\u001b[0m \u001b[0mpublish\u001b[0m\u001b[0;34m:\u001b[0m\u001b[0;34m\u001b[0m\u001b[0m\n",
      "\u001b[0;32m/home/bryce/anaconda2/lib/python2.7/site-packages/pymongo/pool.pyc\u001b[0m in \u001b[0;36mreceive_message\u001b[0;34m(self, operation, request_id)\u001b[0m\n\u001b[1;32m    450\u001b[0m                 self.sock, operation, request_id, self.max_message_size)\n\u001b[1;32m    451\u001b[0m         \u001b[0;32mexcept\u001b[0m \u001b[0mBaseException\u001b[0m \u001b[0;32mas\u001b[0m \u001b[0merror\u001b[0m\u001b[0;34m:\u001b[0m\u001b[0;34m\u001b[0m\u001b[0m\n\u001b[0;32m--> 452\u001b[0;31m             \u001b[0mself\u001b[0m\u001b[0;34m.\u001b[0m\u001b[0m_raise_connection_failure\u001b[0m\u001b[0;34m(\u001b[0m\u001b[0merror\u001b[0m\u001b[0;34m)\u001b[0m\u001b[0;34m\u001b[0m\u001b[0m\n\u001b[0m\u001b[1;32m    453\u001b[0m \u001b[0;34m\u001b[0m\u001b[0m\n\u001b[1;32m    454\u001b[0m     \u001b[0;32mdef\u001b[0m \u001b[0mlegacy_write\u001b[0m\u001b[0;34m(\u001b[0m\u001b[0mself\u001b[0m\u001b[0;34m,\u001b[0m \u001b[0mrequest_id\u001b[0m\u001b[0;34m,\u001b[0m \u001b[0mmsg\u001b[0m\u001b[0;34m,\u001b[0m \u001b[0mmax_doc_size\u001b[0m\u001b[0;34m,\u001b[0m \u001b[0mwith_last_error\u001b[0m\u001b[0;34m)\u001b[0m\u001b[0;34m:\u001b[0m\u001b[0;34m\u001b[0m\u001b[0m\n",
      "\u001b[0;32m/home/bryce/anaconda2/lib/python2.7/site-packages/pymongo/pool.pyc\u001b[0m in \u001b[0;36m_raise_connection_failure\u001b[0;34m(self, error)\u001b[0m\n\u001b[1;32m    550\u001b[0m             \u001b[0m_raise_connection_failure\u001b[0m\u001b[0;34m(\u001b[0m\u001b[0mself\u001b[0m\u001b[0;34m.\u001b[0m\u001b[0maddress\u001b[0m\u001b[0;34m,\u001b[0m \u001b[0merror\u001b[0m\u001b[0;34m)\u001b[0m\u001b[0;34m\u001b[0m\u001b[0m\n\u001b[1;32m    551\u001b[0m         \u001b[0;32melse\u001b[0m\u001b[0;34m:\u001b[0m\u001b[0;34m\u001b[0m\u001b[0m\n\u001b[0;32m--> 552\u001b[0;31m             \u001b[0;32mraise\u001b[0m \u001b[0merror\u001b[0m\u001b[0;34m\u001b[0m\u001b[0m\n\u001b[0m\u001b[1;32m    553\u001b[0m \u001b[0;34m\u001b[0m\u001b[0m\n\u001b[1;32m    554\u001b[0m     \u001b[0;32mdef\u001b[0m \u001b[0m__eq__\u001b[0m\u001b[0;34m(\u001b[0m\u001b[0mself\u001b[0m\u001b[0;34m,\u001b[0m \u001b[0mother\u001b[0m\u001b[0;34m)\u001b[0m\u001b[0;34m:\u001b[0m\u001b[0;34m\u001b[0m\u001b[0m\n",
      "\u001b[0;31mKeyboardInterrupt\u001b[0m: "
     ]
    }
   ],
   "source": [
    "for _id in dd:\n",
    "    print coll.find_one({\"_id\":_id})"
   ]
  },
  {
   "cell_type": "code",
   "execution_count": 18,
   "metadata": {
    "collapsed": true
   },
   "outputs": [],
   "source": [
    "import timeit"
   ]
  },
  {
   "cell_type": "code",
   "execution_count": 24,
   "metadata": {},
   "outputs": [
    {
     "data": {
      "text/plain": [
       "39.4076189994812"
      ]
     },
     "execution_count": 24,
     "metadata": {},
     "output_type": "execute_result"
    }
   ],
   "source": [
    "timeit.timeit(test_f,number=1)"
   ]
  },
  {
   "cell_type": "code",
   "execution_count": 23,
   "metadata": {
    "collapsed": true
   },
   "outputs": [],
   "source": [
    "def test_f():\n",
    "    return coll.find_one({\"done\":\"false\",\"batch\":2})"
   ]
  },
  {
   "cell_type": "code",
   "execution_count": null,
   "metadata": {
    "collapsed": true
   },
   "outputs": [],
   "source": []
  }
 ],
 "metadata": {
  "kernelspec": {
   "display_name": "Python 2",
   "language": "python",
   "name": "python2"
  },
  "language_info": {
   "codemirror_mode": {
    "name": "ipython",
    "version": 2
   },
   "file_extension": ".py",
   "mimetype": "text/x-python",
   "name": "python",
   "nbconvert_exporter": "python",
   "pygments_lexer": "ipython2",
   "version": "2.7.13"
  }
 },
 "nbformat": 4,
 "nbformat_minor": 2
}
