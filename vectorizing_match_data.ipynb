{
 "cells": [
  {
   "cell_type": "code",
   "execution_count": 1,
   "metadata": {
    "collapsed": true
   },
   "outputs": [],
   "source": [
    "import pandas as pd\n",
    "import numpy as np\n",
    "import pymongo\n",
    "import requests\n",
    "import json\n",
    "import pickle\n",
    "from sklearn import model_selection\n",
    "from sklearn.ensemble import RandomForestClassifier"
   ]
  },
  {
   "cell_type": "code",
   "execution_count": 2,
   "metadata": {
    "collapsed": true
   },
   "outputs": [],
   "source": [
    "client = pymongo.MongoClient(\"mongodb://localhost:37017\" )\n",
    "db=client[\"lol\"]\n",
    "coll=db[\"match_data\"]"
   ]
  },
  {
   "cell_type": "code",
   "execution_count": 11,
   "metadata": {},
   "outputs": [
    {
     "data": {
      "text/plain": [
       "{u'championId': 40,\n",
       " u'highestAchievedSeasonTier': u'GOLD',\n",
       " u'masteries': [{u'masteryId': 6211, u'rank': 5},\n",
       "  {u'masteryId': 6221, u'rank': 1},\n",
       "  {u'masteryId': 6231, u'rank': 5},\n",
       "  {u'masteryId': 6241, u'rank': 1},\n",
       "  {u'masteryId': 6311, u'rank': 5},\n",
       "  {u'masteryId': 6322, u'rank': 1},\n",
       "  {u'masteryId': 6332, u'rank': 5},\n",
       "  {u'masteryId': 6342, u'rank': 1},\n",
       "  {u'masteryId': 6352, u'rank': 5},\n",
       "  {u'masteryId': 6363, u'rank': 1}],\n",
       " u'participantId': 10,\n",
       " u'runes': [{u'rank': 9, u'runeId': 5273},\n",
       "  {u'rank': 9, u'runeId': 5289},\n",
       "  {u'rank': 9, u'runeId': 5317},\n",
       "  {u'rank': 3, u'runeId': 5357}],\n",
       " u'spell1Id': 7,\n",
       " u'spell2Id': 4,\n",
       " u'stats': {u'assists': 13,\n",
       "  u'champLevel': 12,\n",
       "  u'combatPlayerScore': 0,\n",
       "  u'damageDealtToObjectives': 2434,\n",
       "  u'damageDealtToTurrets': 1918,\n",
       "  u'damageSelfMitigated': 4978,\n",
       "  u'deaths': 3,\n",
       "  u'doubleKills': 0,\n",
       "  u'firstBloodAssist': False,\n",
       "  u'firstBloodKill': False,\n",
       "  u'firstInhibitorAssist': False,\n",
       "  u'firstInhibitorKill': False,\n",
       "  u'firstTowerAssist': False,\n",
       "  u'firstTowerKill': False,\n",
       "  u'goldEarned': 8492,\n",
       "  u'goldSpent': 7575,\n",
       "  u'inhibitorKills': 1,\n",
       "  u'item0': 3107,\n",
       "  u'item1': 2302,\n",
       "  u'item2': 2055,\n",
       "  u'item3': 3117,\n",
       "  u'item4': 3504,\n",
       "  u'item5': 0,\n",
       "  u'item6': 3364,\n",
       "  u'killingSprees': 0,\n",
       "  u'kills': 0,\n",
       "  u'largestCriticalStrike': 0,\n",
       "  u'largestKillingSpree': 0,\n",
       "  u'largestMultiKill': 0,\n",
       "  u'longestTimeSpentLiving': 646,\n",
       "  u'magicDamageDealt': 9106,\n",
       "  u'magicDamageDealtToChampions': 3675,\n",
       "  u'magicalDamageTaken': 5486,\n",
       "  u'neutralMinionsKilled': 0,\n",
       "  u'neutralMinionsKilledEnemyJungle': 0,\n",
       "  u'neutralMinionsKilledTeamJungle': 0,\n",
       "  u'objectivePlayerScore': 0,\n",
       "  u'participantId': 10,\n",
       "  u'pentaKills': 0,\n",
       "  u'physicalDamageDealt': 2659,\n",
       "  u'physicalDamageDealtToChampions': 536,\n",
       "  u'physicalDamageTaken': 5121,\n",
       "  u'playerScore0': 0,\n",
       "  u'playerScore1': 0,\n",
       "  u'playerScore2': 0,\n",
       "  u'playerScore3': 0,\n",
       "  u'playerScore4': 0,\n",
       "  u'playerScore5': 0,\n",
       "  u'playerScore6': 0,\n",
       "  u'playerScore7': 0,\n",
       "  u'playerScore8': 0,\n",
       "  u'playerScore9': 0,\n",
       "  u'quadraKills': 0,\n",
       "  u'sightWardsBoughtInGame': 0,\n",
       "  u'timeCCingOthers': 36,\n",
       "  u'totalDamageDealt': 12252,\n",
       "  u'totalDamageDealtToChampions': 4698,\n",
       "  u'totalDamageTaken': 10608,\n",
       "  u'totalHeal': 7469,\n",
       "  u'totalMinionsKilled': 15,\n",
       "  u'totalPlayerScore': 0,\n",
       "  u'totalScoreRank': 0,\n",
       "  u'totalTimeCrowdControlDealt': 87,\n",
       "  u'totalUnitsHealed': 6,\n",
       "  u'tripleKills': 0,\n",
       "  u'trueDamageDealt': 486,\n",
       "  u'trueDamageDealtToChampions': 486,\n",
       "  u'trueDamageTaken': 0,\n",
       "  u'turretKills': 0,\n",
       "  u'unrealKills': 0,\n",
       "  u'visionScore': 35,\n",
       "  u'visionWardsBoughtInGame': 3,\n",
       "  u'wardsKilled': 6,\n",
       "  u'wardsPlaced': 16,\n",
       "  u'win': True},\n",
       " u'teamId': 200,\n",
       " u'timeline': {u'creepsPerMinDeltas': {u'0-10': 0.1, u'10-20': 0.8},\n",
       "  u'csDiffPerMinDeltas': {u'0-10': -1.25, u'10-20': -0.19999999999999973},\n",
       "  u'damageTakenDiffPerMinDeltas': {u'0-10': -85.05000000000001,\n",
       "   u'10-20': -234.25000000000003},\n",
       "  u'damageTakenPerMinDeltas': {u'0-10': 148.7, u'10-20': 247.9},\n",
       "  u'goldPerMinDeltas': {u'0-10': 151.4, u'10-20': 319.5},\n",
       "  u'lane': u'BOTTOM',\n",
       "  u'participantId': 10,\n",
       "  u'role': u'DUO_SUPPORT',\n",
       "  u'xpDiffPerMinDeltas': {u'0-10': 7.099999999999994,\n",
       "   u'10-20': 52.400000000000006},\n",
       "  u'xpPerMinDeltas': {u'0-10': 260.2, u'10-20': 383.9}}}"
      ]
     },
     "execution_count": 11,
     "metadata": {},
     "output_type": "execute_result"
    }
   ],
   "source": [
    "game_events.find_one()[\"data\"][\"participants\"][9]"
   ]
  },
  {
   "cell_type": "code",
   "execution_count": 3,
   "metadata": {
    "collapsed": true
   },
   "outputs": [],
   "source": [
    "df=pd.DataFrame()"
   ]
  },
  {
   "cell_type": "code",
   "execution_count": 127,
   "metadata": {},
   "outputs": [
    {
     "name": "stdout",
     "output_type": "stream",
     "text": [
      "  Quinn Camille Diana Xayah Aurelion Sol Syndra Rakan Jax Morgana Zilean  \\\n",
      "0     0       0     0     0            0      0     0   0       0      0   \n",
      "\n",
      "      ...     Jhin_enemy Zyra_enemy Kayn_enemy Udyr_enemy Nidalee_enemy  \\\n",
      "0     ...              0          0          0          0             0   \n",
      "\n",
      "  Nasus_enemy Heimerdinger_enemy Skarner_enemy Gragas_enemy Poppy_enemy  \n",
      "0           0                  0             0            0           0  \n",
      "\n",
      "[1 rows x 276 columns]\n",
      "  Quinn Camille Diana Xayah Aurelion Sol Syndra Rakan Jax Morgana Zilean  \\\n",
      "0     0       0     0     0            0      0     0   0       0      0   \n",
      "\n",
      "      ...     Jhin_enemy Zyra_enemy Kayn_enemy Udyr_enemy Nidalee_enemy  \\\n",
      "0     ...              0          0          0          0             0   \n",
      "\n",
      "  Nasus_enemy Heimerdinger_enemy Skarner_enemy Gragas_enemy Poppy_enemy  \n",
      "0           0                  0             0            0           0  \n",
      "\n",
      "[1 rows x 276 columns]\n",
      "  Quinn Camille Diana Xayah Aurelion Sol Syndra Rakan Jax Morgana Zilean  \\\n",
      "0     0       0     0     0            0      0     0   0       0      0   \n",
      "\n",
      "      ...     Jhin_enemy Zyra_enemy Kayn_enemy Udyr_enemy Nidalee_enemy  \\\n",
      "0     ...              0          0          0          0             0   \n",
      "\n",
      "  Nasus_enemy Heimerdinger_enemy Skarner_enemy Gragas_enemy Poppy_enemy  \n",
      "0           0                  0             0            0           0  \n",
      "\n",
      "[1 rows x 276 columns]\n",
      "  Quinn Camille Diana Xayah Aurelion Sol Syndra Rakan Jax Morgana Zilean  \\\n",
      "0     0       0     0     0            0      0     0   0       0      0   \n",
      "\n",
      "      ...     Jhin_enemy Zyra_enemy Kayn_enemy Udyr_enemy Nidalee_enemy  \\\n",
      "0     ...              0          0          0          0             0   \n",
      "\n",
      "  Nasus_enemy Heimerdinger_enemy Skarner_enemy Gragas_enemy Poppy_enemy  \n",
      "0           0                  0             0            0           0  \n",
      "\n",
      "[1 rows x 276 columns]\n",
      "  Quinn Camille Diana Xayah Aurelion Sol Syndra Rakan Jax Morgana Zilean  \\\n",
      "0     0       0     0     0            0      0     0   0       0      0   \n",
      "\n",
      "      ...     Jhin_enemy Zyra_enemy Kayn_enemy Udyr_enemy Nidalee_enemy  \\\n",
      "0     ...              0          0          0          0             0   \n",
      "\n",
      "  Nasus_enemy Heimerdinger_enemy Skarner_enemy Gragas_enemy Poppy_enemy  \n",
      "0           0                  0             0            0           0  \n",
      "\n",
      "[1 rows x 276 columns]\n",
      "  Quinn Camille Diana Xayah Aurelion Sol Syndra Rakan Jax Morgana Zilean  \\\n",
      "0     0       0     0     0            0      0     0   0       0      0   \n",
      "\n",
      "      ...     Jhin_enemy Zyra_enemy Kayn_enemy Udyr_enemy Nidalee_enemy  \\\n",
      "0     ...              0          0          0          0             0   \n",
      "\n",
      "  Nasus_enemy Heimerdinger_enemy Skarner_enemy Gragas_enemy Poppy_enemy  \n",
      "0           0                  0             0            0           0  \n",
      "\n",
      "[1 rows x 276 columns]\n",
      "  Quinn Camille Diana Xayah Aurelion Sol Syndra Rakan Jax Morgana Zilean  \\\n",
      "0     0       0     0     0            0      0     0   0       0      0   \n",
      "\n",
      "      ...     Jhin_enemy Zyra_enemy Kayn_enemy Udyr_enemy Nidalee_enemy  \\\n",
      "0     ...              0          0          0          0             0   \n",
      "\n",
      "  Nasus_enemy Heimerdinger_enemy Skarner_enemy Gragas_enemy Poppy_enemy  \n",
      "0           0                  0             0            0           0  \n",
      "\n",
      "[1 rows x 276 columns]\n",
      "  Quinn Camille Diana Xayah Aurelion Sol Syndra Rakan Jax Morgana Zilean  \\\n",
      "0     0       0     0     0            0      0     0   0       0      0   \n",
      "\n",
      "      ...     Jhin_enemy Zyra_enemy Kayn_enemy Udyr_enemy Nidalee_enemy  \\\n",
      "0     ...              0          0          0          0             0   \n",
      "\n",
      "  Nasus_enemy Heimerdinger_enemy Skarner_enemy Gragas_enemy Poppy_enemy  \n",
      "0           0                  0             0            0           0  \n",
      "\n",
      "[1 rows x 276 columns]\n",
      "  Quinn Camille Diana Xayah Aurelion Sol Syndra Rakan Jax Morgana Zilean  \\\n",
      "0     0       0     0     0            0      0     0   0       0      0   \n",
      "\n",
      "      ...     Jhin_enemy Zyra_enemy Kayn_enemy Udyr_enemy Nidalee_enemy  \\\n",
      "0     ...              0          0          0          0             0   \n",
      "\n",
      "  Nasus_enemy Heimerdinger_enemy Skarner_enemy Gragas_enemy Poppy_enemy  \n",
      "0           0                  0             0            0           0  \n",
      "\n",
      "[1 rows x 276 columns]\n",
      "  Quinn Camille Diana Xayah Aurelion Sol Syndra Rakan Jax Morgana Zilean  \\\n",
      "0     0       0     0     0            0      0     0   0       0      0   \n",
      "\n",
      "      ...     Jhin_enemy Zyra_enemy Kayn_enemy Udyr_enemy Nidalee_enemy  \\\n",
      "0     ...              0          0          0          0             0   \n",
      "\n",
      "  Nasus_enemy Heimerdinger_enemy Skarner_enemy Gragas_enemy Poppy_enemy  \n",
      "0           0                  0             0            0           0  \n",
      "\n",
      "[1 rows x 276 columns]\n",
      "  Quinn Camille Diana Xayah Aurelion Sol Syndra Rakan Jax Morgana Zilean  \\\n",
      "0     0       0     0     0            0      0     0   0       0      0   \n",
      "\n",
      "      ...     Jhin_enemy Zyra_enemy Kayn_enemy Udyr_enemy Nidalee_enemy  \\\n",
      "0     ...              0          0          0          0             0   \n",
      "\n",
      "  Nasus_enemy Heimerdinger_enemy Skarner_enemy Gragas_enemy Poppy_enemy  \n",
      "0           0                  0             0            0           0  \n",
      "\n",
      "[1 rows x 276 columns]\n"
     ]
    }
   ],
   "source": [
    "for i,match in enumerate(game_events.find()):\n",
    "    for player in match[\"participants\"]:\n",
    "        champ=champ_dict[\"data\"][str(player[\"championId\"])][\"name\"]\n",
    "        df_to_add=pd.DataFrame(columns=pd_headers)\n",
    "        df_to_add.loc[df_to_add.shape[0]]=[0 for column in range(df_to_add.shape[1])]\n",
    "        if player[\"teamId\"]==100:\n",
    "            df_to_add.loc[0,champ]=1\n",
    "        else:\n",
    "            df_to_add[champ+\"_enemy\"]=1\n",
    "    print df_to_add\n",
    "    df=df.append(df_to_add)\n",
    "    if i == 10:\n",
    "        break\n",
    "        "
   ]
  },
  {
   "cell_type": "code",
   "execution_count": 125,
   "metadata": {},
   "outputs": [
    {
     "data": {
      "text/plain": [
       "(11, 276)"
      ]
     },
     "execution_count": 125,
     "metadata": {},
     "output_type": "execute_result"
    }
   ],
   "source": [
    "df.shape"
   ]
  },
  {
   "cell_type": "code",
   "execution_count": 126,
   "metadata": {},
   "outputs": [
    {
     "data": {
      "text/plain": [
       "0    0\n",
       "0    0\n",
       "0    0\n",
       "0    0\n",
       "0    0\n",
       "0    0\n",
       "0    0\n",
       "0    0\n",
       "0    0\n",
       "0    0\n",
       "0    0\n",
       "Name: Lux, dtype: object"
      ]
     },
     "execution_count": 126,
     "metadata": {},
     "output_type": "execute_result"
    }
   ],
   "source": [
    "df[\"Lux\"]"
   ]
  },
  {
   "cell_type": "code",
   "execution_count": 6,
   "metadata": {
    "collapsed": true
   },
   "outputs": [],
   "source": [
    "champ_dict=requests.get(\"https://na1.api.riotgames.com/lol/static-data/v3/champions?locale=en_US&dataById=true&api_key=RGAPI-697d1862-4b7b-4736-9ee8-d8525c958a6f\").json()"
   ]
  },
  {
   "cell_type": "code",
   "execution_count": null,
   "metadata": {
    "collapsed": true
   },
   "outputs": [],
   "source": []
  },
  {
   "cell_type": "code",
   "execution_count": 7,
   "metadata": {},
   "outputs": [
    {
     "data": {
      "text/plain": [
       "u'Annie'"
      ]
     },
     "execution_count": 7,
     "metadata": {},
     "output_type": "execute_result"
    }
   ],
   "source": [
    "champ_dict[\"data\"][\"1\"][\"name\"]"
   ]
  },
  {
   "cell_type": "code",
   "execution_count": 20,
   "metadata": {
    "collapsed": true
   },
   "outputs": [
    {
     "name": "stdout",
     "output_type": "stream",
     "text": [
      "Quinn\n",
      "Camille\n",
      "Diana\n",
      "Xayah\n",
      "Aurelion Sol\n",
      "Syndra\n",
      "Rakan\n",
      "Jax\n",
      "Morgana\n",
      "Zilean\n",
      "Singed\n",
      "Nunu\n",
      "Miss Fortune\n",
      "Ashe\n",
      "Tryndamere\n",
      "Evelynn\n",
      "Twitch\n",
      "Jinx\n",
      "Twisted Fate\n",
      "Vladimir\n",
      "Taliyah\n",
      "Hecarim\n",
      "Kha'Zix\n",
      "Darius\n",
      "Nami\n",
      "Aatrox\n",
      "Jayce\n",
      "Lissandra\n",
      "Azir\n",
      "Jarvan IV\n",
      "Renekton\n",
      "Katarina\n",
      "Malphite\n",
      "Maokai\n",
      "Nocturne\n",
      "Caitlyn\n",
      "Swain\n",
      "Blitzcrank\n",
      "Thresh\n",
      "Ziggs\n",
      "Fiora\n",
      "Lulu\n",
      "Leona\n",
      "Nautilus\n",
      "Varus\n",
      "Sejuani\n",
      "Viktor\n",
      "Mordekaiser\n",
      "Yorick\n",
      "Pantheon\n",
      "Ezreal\n",
      "Draven\n",
      "Akali\n",
      "Kennen\n",
      "Kalista\n",
      "Galio\n",
      "LeBlanc\n",
      "Rek'Sai\n",
      "Illaoi\n",
      "Ivern\n",
      "Ekko\n",
      "Kled\n",
      "Shyvana\n",
      "Ahri\n",
      "Xerath\n",
      "Volibear\n",
      "Rengar\n",
      "Graves\n",
      "Fizz\n",
      "Irelia\n",
      "Kassadin\n",
      "Rammus\n",
      "Amumu\n",
      "Cho'Gath\n",
      "Karthus\n",
      "Sona\n",
      "Dr. Mundo\n",
      "Shaco\n",
      "Anivia\n",
      "Bard\n",
      "Ornn\n",
      "Elise\n",
      "Orianna\n",
      "Wukong\n",
      "Brand\n",
      "Lee Sin\n",
      "Vayne\n",
      "Rumble\n",
      "Cassiopeia\n",
      "Vi\n",
      "Olaf\n",
      "Urgot\n",
      "Lux\n",
      "Shen\n",
      "Talon\n",
      "Malzahar\n",
      "Riven\n",
      "Tahm Kench\n",
      "Vel'Koz\n",
      "Kog'Maw\n",
      "Master Yi\n",
      "Kayle\n",
      "Ryze\n",
      "Alistar\n",
      "Sivir\n",
      "Sion\n",
      "Teemo\n",
      "Soraka\n",
      "Warwick\n",
      "Tristana\n",
      "Gnar\n",
      "Zac\n",
      "Yasuo\n",
      "Zed\n",
      "Lucian\n",
      "Trundle\n",
      "Garen\n",
      "Taric\n",
      "Veigar\n",
      "Corki\n",
      "Karma\n",
      "Janna\n",
      "Gangplank\n",
      "Annie\n",
      "Xin Zhao\n",
      "Fiddlesticks\n",
      "Braum\n",
      "Kindred\n",
      "Jhin\n",
      "Zyra\n",
      "Kayn\n",
      "Udyr\n",
      "Nidalee\n",
      "Nasus\n",
      "Heimerdinger\n",
      "Skarner\n",
      "Gragas\n",
      "Poppy\n"
     ]
    }
   ],
   "source": [
    "for x in champ_dict[\"data\"].keys():\n",
    "    print champ_dict[\"data\"][str(x)][\"name\"]"
   ]
  },
  {
   "cell_type": "code",
   "execution_count": 27,
   "metadata": {
    "collapsed": true
   },
   "outputs": [],
   "source": [
    "pickle.dump( champ_dict, open(\"champion_dict.p\",\"wb\") )"
   ]
  },
  {
   "cell_type": "code",
   "execution_count": 8,
   "metadata": {
    "collapsed": true
   },
   "outputs": [],
   "source": [
    "def champion_number_to_name(champion_number):\n",
    "    try:\n",
    "        champ_dict\n",
    "    except:\n",
    "        champ_dict = pickle.load(open(\"champion_dict.p\",\"rb\"))\n",
    "    return champ_dict[\"data\"][str(champion_number)][\"name\"]"
   ]
  },
  {
   "cell_type": "code",
   "execution_count": 9,
   "metadata": {},
   "outputs": [
    {
     "data": {
      "text/plain": [
       "u'Aurelion Sol'"
      ]
     },
     "execution_count": 9,
     "metadata": {},
     "output_type": "execute_result"
    }
   ],
   "source": [
    "champion_number_to_name(136)"
   ]
  },
  {
   "cell_type": "code",
   "execution_count": 10,
   "metadata": {
    "collapsed": true
   },
   "outputs": [],
   "source": [
    "list_of_champs=[champion_number_to_name(key) for key in champ_dict[\"data\"].keys()]"
   ]
  },
  {
   "cell_type": "code",
   "execution_count": 11,
   "metadata": {
    "collapsed": true
   },
   "outputs": [],
   "source": [
    "add_enemy=[champ+\"_enemy\" for champ in list_of_champs]"
   ]
  },
  {
   "cell_type": "code",
   "execution_count": 12,
   "metadata": {
    "collapsed": true
   },
   "outputs": [],
   "source": [
    "pd_headers=list_of_champs+add_enemy+[\"win\"]"
   ]
  },
  {
   "cell_type": "code",
   "execution_count": null,
   "metadata": {
    "collapsed": true
   },
   "outputs": [],
   "source": []
  },
  {
   "cell_type": "code",
   "execution_count": 46,
   "metadata": {
    "collapsed": true
   },
   "outputs": [],
   "source": [
    "df=pd.DataFrame(columns=pd_headers)"
   ]
  },
  {
   "cell_type": "code",
   "execution_count": 49,
   "metadata": {},
   "outputs": [
    {
     "data": {
      "text/plain": [
       "(50006, 277)"
      ]
     },
     "execution_count": 49,
     "metadata": {},
     "output_type": "execute_result"
    }
   ],
   "source": [
    "df.shape"
   ]
  },
  {
   "cell_type": "code",
   "execution_count": 43,
   "metadata": {},
   "outputs": [
    {
     "data": {
      "text/plain": [
       "76548"
      ]
     },
     "execution_count": 43,
     "metadata": {},
     "output_type": "execute_result"
    }
   ],
   "source": [
    "coll.find({\"done\":\"true\"}).count()"
   ]
  },
  {
   "cell_type": "code",
   "execution_count": 15,
   "metadata": {
    "scrolled": true
   },
   "outputs": [
    {
     "ename": "KeyboardInterrupt",
     "evalue": "",
     "output_type": "error",
     "traceback": [
      "\u001b[0;31m---------------------------------------------------------------------------\u001b[0m",
      "\u001b[0;31mKeyboardInterrupt\u001b[0m                         Traceback (most recent call last)",
      "\u001b[0;32m<ipython-input-15-2c47a921e09f>\u001b[0m in \u001b[0;36m<module>\u001b[0;34m()\u001b[0m\n\u001b[0;32m----> 1\u001b[0;31m \u001b[0m_ids\u001b[0m\u001b[0;34m=\u001b[0m\u001b[0;34m[\u001b[0m\u001b[0mx\u001b[0m\u001b[0;34m[\u001b[0m\u001b[0;34m\"_id\"\u001b[0m\u001b[0;34m]\u001b[0m \u001b[0;32mfor\u001b[0m \u001b[0mx\u001b[0m \u001b[0;32min\u001b[0m \u001b[0mcoll\u001b[0m\u001b[0;34m.\u001b[0m\u001b[0mfind\u001b[0m\u001b[0;34m(\u001b[0m\u001b[0;34m{\u001b[0m\u001b[0;34m\"done\"\u001b[0m\u001b[0;34m:\u001b[0m\u001b[0;34m\"true\"\u001b[0m\u001b[0;34m}\u001b[0m\u001b[0;34m)\u001b[0m\u001b[0;34m]\u001b[0m\u001b[0;34m\u001b[0m\u001b[0m\n\u001b[0m",
      "\u001b[0;32m/home/bryce/anaconda2/lib/python2.7/site-packages/pymongo/cursor.pyc\u001b[0m in \u001b[0;36mnext\u001b[0;34m(self)\u001b[0m\n\u001b[1;32m   1112\u001b[0m             \u001b[0;32mraise\u001b[0m \u001b[0mStopIteration\u001b[0m\u001b[0;34m\u001b[0m\u001b[0m\n\u001b[1;32m   1113\u001b[0m         \u001b[0m_db\u001b[0m \u001b[0;34m=\u001b[0m \u001b[0mself\u001b[0m\u001b[0;34m.\u001b[0m\u001b[0m__collection\u001b[0m\u001b[0;34m.\u001b[0m\u001b[0mdatabase\u001b[0m\u001b[0;34m\u001b[0m\u001b[0m\n\u001b[0;32m-> 1114\u001b[0;31m         \u001b[0;32mif\u001b[0m \u001b[0mlen\u001b[0m\u001b[0;34m(\u001b[0m\u001b[0mself\u001b[0m\u001b[0;34m.\u001b[0m\u001b[0m__data\u001b[0m\u001b[0;34m)\u001b[0m \u001b[0;32mor\u001b[0m \u001b[0mself\u001b[0m\u001b[0;34m.\u001b[0m\u001b[0m_refresh\u001b[0m\u001b[0;34m(\u001b[0m\u001b[0;34m)\u001b[0m\u001b[0;34m:\u001b[0m\u001b[0;34m\u001b[0m\u001b[0m\n\u001b[0m\u001b[1;32m   1115\u001b[0m             \u001b[0;32mif\u001b[0m \u001b[0mself\u001b[0m\u001b[0;34m.\u001b[0m\u001b[0m__manipulate\u001b[0m\u001b[0;34m:\u001b[0m\u001b[0;34m\u001b[0m\u001b[0m\n\u001b[1;32m   1116\u001b[0m                 return _db._fix_outgoing(self.__data.popleft(),\n",
      "\u001b[0;32m/home/bryce/anaconda2/lib/python2.7/site-packages/pymongo/cursor.pyc\u001b[0m in \u001b[0;36m_refresh\u001b[0;34m(self)\u001b[0m\n\u001b[1;32m   1054\u001b[0m                                              \u001b[0mself\u001b[0m\u001b[0;34m.\u001b[0m\u001b[0m__id\u001b[0m\u001b[0;34m,\u001b[0m\u001b[0;34m\u001b[0m\u001b[0m\n\u001b[1;32m   1055\u001b[0m                                              \u001b[0mself\u001b[0m\u001b[0;34m.\u001b[0m\u001b[0m__codec_options\u001b[0m\u001b[0;34m,\u001b[0m\u001b[0;34m\u001b[0m\u001b[0m\n\u001b[0;32m-> 1056\u001b[0;31m                                              self.__max_await_time_ms))\n\u001b[0m\u001b[1;32m   1057\u001b[0m \u001b[0;34m\u001b[0m\u001b[0m\n\u001b[1;32m   1058\u001b[0m         \u001b[0;32melse\u001b[0m\u001b[0;34m:\u001b[0m  \u001b[0;31m# Cursor id is zero nothing else to return\u001b[0m\u001b[0;34m\u001b[0m\u001b[0m\n",
      "\u001b[0;32m/home/bryce/anaconda2/lib/python2.7/site-packages/pymongo/cursor.pyc\u001b[0m in \u001b[0;36m__send_message\u001b[0;34m(self, operation)\u001b[0m\n\u001b[1;32m    871\u001b[0m             \u001b[0;32mtry\u001b[0m\u001b[0;34m:\u001b[0m\u001b[0;34m\u001b[0m\u001b[0m\n\u001b[1;32m    872\u001b[0m                 response = client._send_message_with_response(operation,\n\u001b[0;32m--> 873\u001b[0;31m                                                               **kwargs)\n\u001b[0m\u001b[1;32m    874\u001b[0m                 \u001b[0mself\u001b[0m\u001b[0;34m.\u001b[0m\u001b[0m__address\u001b[0m \u001b[0;34m=\u001b[0m \u001b[0mresponse\u001b[0m\u001b[0;34m.\u001b[0m\u001b[0maddress\u001b[0m\u001b[0;34m\u001b[0m\u001b[0m\n\u001b[1;32m    875\u001b[0m                 \u001b[0;32mif\u001b[0m \u001b[0mself\u001b[0m\u001b[0;34m.\u001b[0m\u001b[0m__exhaust\u001b[0m\u001b[0;34m:\u001b[0m\u001b[0;34m\u001b[0m\u001b[0m\n",
      "\u001b[0;32m/home/bryce/anaconda2/lib/python2.7/site-packages/pymongo/mongo_client.pyc\u001b[0m in \u001b[0;36m_send_message_with_response\u001b[0;34m(self, operation, read_preference, exhaust, address)\u001b[0m\n\u001b[1;32m    903\u001b[0m             \u001b[0mself\u001b[0m\u001b[0;34m.\u001b[0m\u001b[0m__all_credentials\u001b[0m\u001b[0;34m,\u001b[0m\u001b[0;34m\u001b[0m\u001b[0m\n\u001b[1;32m    904\u001b[0m             \u001b[0mself\u001b[0m\u001b[0;34m.\u001b[0m\u001b[0m_event_listeners\u001b[0m\u001b[0;34m,\u001b[0m\u001b[0;34m\u001b[0m\u001b[0m\n\u001b[0;32m--> 905\u001b[0;31m             exhaust)\n\u001b[0m\u001b[1;32m    906\u001b[0m \u001b[0;34m\u001b[0m\u001b[0m\n\u001b[1;32m    907\u001b[0m     \u001b[0;32mdef\u001b[0m \u001b[0m_reset_on_error\u001b[0m\u001b[0;34m(\u001b[0m\u001b[0mself\u001b[0m\u001b[0;34m,\u001b[0m \u001b[0mserver\u001b[0m\u001b[0;34m,\u001b[0m \u001b[0mfunc\u001b[0m\u001b[0;34m,\u001b[0m \u001b[0;34m*\u001b[0m\u001b[0margs\u001b[0m\u001b[0;34m,\u001b[0m \u001b[0;34m**\u001b[0m\u001b[0mkwargs\u001b[0m\u001b[0;34m)\u001b[0m\u001b[0;34m:\u001b[0m\u001b[0;34m\u001b[0m\u001b[0m\n",
      "\u001b[0;32m/home/bryce/anaconda2/lib/python2.7/site-packages/pymongo/mongo_client.pyc\u001b[0m in \u001b[0;36m_reset_on_error\u001b[0;34m(self, server, func, *args, **kwargs)\u001b[0m\n\u001b[1;32m    914\u001b[0m         \"\"\"\n\u001b[1;32m    915\u001b[0m         \u001b[0;32mtry\u001b[0m\u001b[0;34m:\u001b[0m\u001b[0;34m\u001b[0m\u001b[0m\n\u001b[0;32m--> 916\u001b[0;31m             \u001b[0;32mreturn\u001b[0m \u001b[0mfunc\u001b[0m\u001b[0;34m(\u001b[0m\u001b[0;34m*\u001b[0m\u001b[0margs\u001b[0m\u001b[0;34m,\u001b[0m \u001b[0;34m**\u001b[0m\u001b[0mkwargs\u001b[0m\u001b[0;34m)\u001b[0m\u001b[0;34m\u001b[0m\u001b[0m\n\u001b[0m\u001b[1;32m    917\u001b[0m         \u001b[0;32mexcept\u001b[0m \u001b[0mNetworkTimeout\u001b[0m\u001b[0;34m:\u001b[0m\u001b[0;34m\u001b[0m\u001b[0m\n\u001b[1;32m    918\u001b[0m             \u001b[0;31m# The socket has been closed. Don't reset the server.\u001b[0m\u001b[0;34m\u001b[0m\u001b[0;34m\u001b[0m\u001b[0m\n",
      "\u001b[0;32m/home/bryce/anaconda2/lib/python2.7/site-packages/pymongo/server.pyc\u001b[0m in \u001b[0;36msend_message_with_response\u001b[0;34m(self, operation, set_slave_okay, all_credentials, listeners, exhaust)\u001b[0m\n\u001b[1;32m    134\u001b[0m             \u001b[0;32mtry\u001b[0m\u001b[0;34m:\u001b[0m\u001b[0;34m\u001b[0m\u001b[0m\n\u001b[1;32m    135\u001b[0m                 \u001b[0msock_info\u001b[0m\u001b[0;34m.\u001b[0m\u001b[0msend_message\u001b[0m\u001b[0;34m(\u001b[0m\u001b[0mdata\u001b[0m\u001b[0;34m,\u001b[0m \u001b[0mmax_doc_size\u001b[0m\u001b[0;34m)\u001b[0m\u001b[0;34m\u001b[0m\u001b[0m\n\u001b[0;32m--> 136\u001b[0;31m                 \u001b[0mresponse_data\u001b[0m \u001b[0;34m=\u001b[0m \u001b[0msock_info\u001b[0m\u001b[0;34m.\u001b[0m\u001b[0mreceive_message\u001b[0m\u001b[0;34m(\u001b[0m\u001b[0;36m1\u001b[0m\u001b[0;34m,\u001b[0m \u001b[0mrequest_id\u001b[0m\u001b[0;34m)\u001b[0m\u001b[0;34m\u001b[0m\u001b[0m\n\u001b[0m\u001b[1;32m    137\u001b[0m             \u001b[0;32mexcept\u001b[0m \u001b[0mException\u001b[0m \u001b[0;32mas\u001b[0m \u001b[0mexc\u001b[0m\u001b[0;34m:\u001b[0m\u001b[0;34m\u001b[0m\u001b[0m\n\u001b[1;32m    138\u001b[0m                 \u001b[0;32mif\u001b[0m \u001b[0mpublish\u001b[0m\u001b[0;34m:\u001b[0m\u001b[0;34m\u001b[0m\u001b[0m\n",
      "\u001b[0;32m/home/bryce/anaconda2/lib/python2.7/site-packages/pymongo/pool.pyc\u001b[0m in \u001b[0;36mreceive_message\u001b[0;34m(self, operation, request_id)\u001b[0m\n\u001b[1;32m    450\u001b[0m                 self.sock, operation, request_id, self.max_message_size)\n\u001b[1;32m    451\u001b[0m         \u001b[0;32mexcept\u001b[0m \u001b[0mBaseException\u001b[0m \u001b[0;32mas\u001b[0m \u001b[0merror\u001b[0m\u001b[0;34m:\u001b[0m\u001b[0;34m\u001b[0m\u001b[0m\n\u001b[0;32m--> 452\u001b[0;31m             \u001b[0mself\u001b[0m\u001b[0;34m.\u001b[0m\u001b[0m_raise_connection_failure\u001b[0m\u001b[0;34m(\u001b[0m\u001b[0merror\u001b[0m\u001b[0;34m)\u001b[0m\u001b[0;34m\u001b[0m\u001b[0m\n\u001b[0m\u001b[1;32m    453\u001b[0m \u001b[0;34m\u001b[0m\u001b[0m\n\u001b[1;32m    454\u001b[0m     \u001b[0;32mdef\u001b[0m \u001b[0mlegacy_write\u001b[0m\u001b[0;34m(\u001b[0m\u001b[0mself\u001b[0m\u001b[0;34m,\u001b[0m \u001b[0mrequest_id\u001b[0m\u001b[0;34m,\u001b[0m \u001b[0mmsg\u001b[0m\u001b[0;34m,\u001b[0m \u001b[0mmax_doc_size\u001b[0m\u001b[0;34m,\u001b[0m \u001b[0mwith_last_error\u001b[0m\u001b[0;34m)\u001b[0m\u001b[0;34m:\u001b[0m\u001b[0;34m\u001b[0m\u001b[0m\n",
      "\u001b[0;32m/home/bryce/anaconda2/lib/python2.7/site-packages/pymongo/pool.pyc\u001b[0m in \u001b[0;36m_raise_connection_failure\u001b[0;34m(self, error)\u001b[0m\n\u001b[1;32m    550\u001b[0m             \u001b[0m_raise_connection_failure\u001b[0m\u001b[0;34m(\u001b[0m\u001b[0mself\u001b[0m\u001b[0;34m.\u001b[0m\u001b[0maddress\u001b[0m\u001b[0;34m,\u001b[0m \u001b[0merror\u001b[0m\u001b[0;34m)\u001b[0m\u001b[0;34m\u001b[0m\u001b[0m\n\u001b[1;32m    551\u001b[0m         \u001b[0;32melse\u001b[0m\u001b[0;34m:\u001b[0m\u001b[0;34m\u001b[0m\u001b[0m\n\u001b[0;32m--> 552\u001b[0;31m             \u001b[0;32mraise\u001b[0m \u001b[0merror\u001b[0m\u001b[0;34m\u001b[0m\u001b[0m\n\u001b[0m\u001b[1;32m    553\u001b[0m \u001b[0;34m\u001b[0m\u001b[0m\n\u001b[1;32m    554\u001b[0m     \u001b[0;32mdef\u001b[0m \u001b[0m__eq__\u001b[0m\u001b[0;34m(\u001b[0m\u001b[0mself\u001b[0m\u001b[0;34m,\u001b[0m \u001b[0mother\u001b[0m\u001b[0;34m)\u001b[0m\u001b[0;34m:\u001b[0m\u001b[0;34m\u001b[0m\u001b[0m\n",
      "\u001b[0;31mKeyboardInterrupt\u001b[0m: "
     ]
    }
   ],
   "source": [
    "_ids=[x[\"_id\"] for x in coll.find({\"done\":\"true\"})]"
   ]
  },
  {
   "cell_type": "code",
   "execution_count": null,
   "metadata": {
    "collapsed": true
   },
   "outputs": [],
   "source": [
    "len(_ids)"
   ]
  },
  {
   "cell_type": "code",
   "execution_count": 48,
   "metadata": {},
   "outputs": [
    {
     "name": "stdout",
     "output_type": "stream",
     "text": [
      "0\n",
      "1000\n",
      "2000\n",
      "3000\n",
      "4000\n",
      "5000\n",
      "6000\n",
      "7000\n",
      "8000\n",
      "9000\n",
      "10000\n",
      "11000\n",
      "12000\n",
      "13000\n",
      "14000\n",
      "15000\n",
      "16000\n",
      "17000\n",
      "18000\n",
      "19000\n",
      "20000\n",
      "21000\n",
      "22000\n",
      "23000\n",
      "24000\n",
      "25000\n",
      "{u'data': {u'status': {u'status_code': 503, u'message': u'Service unavailable'}}, u'_id': 25040, u'done': u'true', u'batch': 0, u'gameid': 2618368925L}\n",
      "25040\n"
     ]
    },
    {
     "ename": "KeyError",
     "evalue": "'teams'",
     "output_type": "error",
     "traceback": [
      "\u001b[0;31m---------------------------------------------------------------------------\u001b[0m",
      "\u001b[0;31mKeyError\u001b[0m                                  Traceback (most recent call last)",
      "\u001b[0;32m<ipython-input-48-09b7c58f5ed3>\u001b[0m in \u001b[0;36m<module>\u001b[0;34m()\u001b[0m\n\u001b[1;32m      2\u001b[0m     \u001b[0mnew_row\u001b[0m\u001b[0;34m=\u001b[0m\u001b[0;34m{\u001b[0m\u001b[0;34m}\u001b[0m\u001b[0;34m\u001b[0m\u001b[0m\n\u001b[1;32m      3\u001b[0m     \u001b[0mnew_row2\u001b[0m\u001b[0;34m=\u001b[0m\u001b[0;34m{\u001b[0m\u001b[0;34m}\u001b[0m\u001b[0;34m\u001b[0m\u001b[0m\n\u001b[0;32m----> 4\u001b[0;31m     \u001b[0mallied_champions\u001b[0m\u001b[0;34m,\u001b[0m\u001b[0menemy_champions\u001b[0m\u001b[0;34m,\u001b[0m\u001b[0mwinning_team\u001b[0m \u001b[0;34m=\u001b[0m \u001b[0mpull_champions_from_game_data\u001b[0m\u001b[0;34m(\u001b[0m\u001b[0mgame\u001b[0m\u001b[0;34m)\u001b[0m\u001b[0;34m\u001b[0m\u001b[0m\n\u001b[0m\u001b[1;32m      5\u001b[0m \u001b[0;34m\u001b[0m\u001b[0m\n\u001b[1;32m      6\u001b[0m     \u001b[0;32mfor\u001b[0m \u001b[0mchampion_number\u001b[0m \u001b[0;32min\u001b[0m \u001b[0mallied_champions\u001b[0m\u001b[0;34m:\u001b[0m\u001b[0;34m\u001b[0m\u001b[0m\n",
      "\u001b[0;32m<ipython-input-21-775432d7f110>\u001b[0m in \u001b[0;36mpull_champions_from_game_data\u001b[0;34m(mongo_object)\u001b[0m\n\u001b[1;32m     14\u001b[0m     \u001b[0mallied_champions\u001b[0m\u001b[0;34m=\u001b[0m\u001b[0mchamps\u001b[0m\u001b[0;34m[\u001b[0m\u001b[0;34m:\u001b[0m\u001b[0;36m5\u001b[0m\u001b[0;34m]\u001b[0m\u001b[0;34m\u001b[0m\u001b[0m\n\u001b[1;32m     15\u001b[0m     \u001b[0menemy_champions\u001b[0m\u001b[0;34m=\u001b[0m\u001b[0mchamps\u001b[0m\u001b[0;34m[\u001b[0m\u001b[0;36m5\u001b[0m\u001b[0;34m:\u001b[0m\u001b[0;34m]\u001b[0m\u001b[0;34m\u001b[0m\u001b[0m\n\u001b[0;32m---> 16\u001b[0;31m     \u001b[0;32mif\u001b[0m \u001b[0mmongo_object\u001b[0m\u001b[0;34m[\u001b[0m\u001b[0;34m\"data\"\u001b[0m\u001b[0;34m]\u001b[0m\u001b[0;34m[\u001b[0m\u001b[0;34m\"teams\"\u001b[0m\u001b[0;34m]\u001b[0m\u001b[0;34m[\u001b[0m\u001b[0;36m0\u001b[0m\u001b[0;34m]\u001b[0m\u001b[0;34m[\u001b[0m\u001b[0;34m\"win\"\u001b[0m\u001b[0;34m]\u001b[0m\u001b[0;34m==\u001b[0m\u001b[0;34m\"Fail\"\u001b[0m\u001b[0;34m:\u001b[0m\u001b[0;34m\u001b[0m\u001b[0m\n\u001b[0m\u001b[1;32m     17\u001b[0m         \u001b[0mwinning_team\u001b[0m\u001b[0;34m=\u001b[0m\u001b[0;36m100\u001b[0m\u001b[0;34m\u001b[0m\u001b[0m\n\u001b[1;32m     18\u001b[0m     \u001b[0;32melse\u001b[0m\u001b[0;34m:\u001b[0m\u001b[0;34m\u001b[0m\u001b[0m\n",
      "\u001b[0;31mKeyError\u001b[0m: 'teams'"
     ]
    }
   ],
   "source": [
    "for i,game in enumerate(coll.find({\"done\":\"true\"})):\n",
    "    new_row={}\n",
    "    new_row2={}\n",
    "    allied_champions,enemy_champions,winning_team = pull_champions_from_game_data(game)\n",
    "    \n",
    "    for champion_number in allied_champions:\n",
    "        new_row[champion_number_to_name(champion_number)]=1\n",
    "    for champion_number in enemy_champions:\n",
    "        new_row[champion_number_to_name(champion_number)+\"_enemy\"]=1\n",
    "    if winning_team==100:\n",
    "        new_row[\"win\"]=1\n",
    "    else:\n",
    "        new_row[\"win\"]=0\n",
    "    \n",
    "    for champion_number in enemy_champions:\n",
    "        new_row2[champion_number_to_name(champion_number)]=1\n",
    "    for champion_number in allied_champions:\n",
    "        new_row2[champion_number_to_name(champion_number)+\"_enemy\"]=1\n",
    "    if winning_team==200:\n",
    "        new_row2[\"win\"]=1\n",
    "    else:\n",
    "        new_row2[\"win\"]=0\n",
    "        \n",
    "        \n",
    "    df=df.append(new_row, ignore_index=True)\n",
    "    df=df.append(new_row2, ignore_index=True)\n",
    "    if i%1000==0:\n",
    "        print i"
   ]
  },
  {
   "cell_type": "code",
   "execution_count": 45,
   "metadata": {},
   "outputs": [
    {
     "data": {
      "text/plain": [
       "11"
      ]
     },
     "execution_count": 45,
     "metadata": {},
     "output_type": "execute_result"
    }
   ],
   "source": [
    "coll.find({\"data\":{u'status': {u'status_code': 500, u'message': u'Internal server error'}}}).count()"
   ]
  },
  {
   "cell_type": "code",
   "execution_count": 232,
   "metadata": {},
   "outputs": [
    {
     "ename": "KeyError",
     "evalue": "'participants'",
     "output_type": "error",
     "traceback": [
      "\u001b[0;31m---------------------------------------------------------------------------\u001b[0m",
      "\u001b[0;31mKeyError\u001b[0m                                  Traceback (most recent call last)",
      "\u001b[0;32m<ipython-input-232-f715d11456ca>\u001b[0m in \u001b[0;36m<module>\u001b[0;34m()\u001b[0m\n\u001b[1;32m      2\u001b[0m     \u001b[0mnew_row\u001b[0m\u001b[0;34m=\u001b[0m\u001b[0;34m{\u001b[0m\u001b[0;34m}\u001b[0m\u001b[0;34m\u001b[0m\u001b[0m\n\u001b[1;32m      3\u001b[0m     \u001b[0mnew_row2\u001b[0m\u001b[0;34m=\u001b[0m\u001b[0;34m{\u001b[0m\u001b[0;34m}\u001b[0m\u001b[0;34m\u001b[0m\u001b[0m\n\u001b[0;32m----> 4\u001b[0;31m     \u001b[0mallied_champions\u001b[0m\u001b[0;34m,\u001b[0m\u001b[0menemy_champions\u001b[0m\u001b[0;34m,\u001b[0m\u001b[0mwinning_team\u001b[0m \u001b[0;34m=\u001b[0m \u001b[0mpull_champions_from_game_data\u001b[0m\u001b[0;34m(\u001b[0m\u001b[0mgame\u001b[0m\u001b[0;34m)\u001b[0m\u001b[0;34m\u001b[0m\u001b[0m\n\u001b[0m\u001b[1;32m      5\u001b[0m \u001b[0;34m\u001b[0m\u001b[0m\n\u001b[1;32m      6\u001b[0m     \u001b[0;32mfor\u001b[0m \u001b[0mchampion_number\u001b[0m \u001b[0;32min\u001b[0m \u001b[0mallied_champions\u001b[0m\u001b[0;34m:\u001b[0m\u001b[0;34m\u001b[0m\u001b[0m\n",
      "\u001b[0;32m<ipython-input-133-f40e204d1687>\u001b[0m in \u001b[0;36mpull_champions_from_game_data\u001b[0;34m(mongo_object)\u001b[0m\n\u001b[1;32m      6\u001b[0m     \u001b[0mchamps\u001b[0m\u001b[0;34m=\u001b[0m\u001b[0;34m[\u001b[0m\u001b[0;34m]\u001b[0m\u001b[0;34m\u001b[0m\u001b[0m\n\u001b[1;32m      7\u001b[0m     \u001b[0mwinning_team\u001b[0m\u001b[0;34m=\u001b[0m\u001b[0;36m0\u001b[0m\u001b[0;34m\u001b[0m\u001b[0m\n\u001b[0;32m----> 8\u001b[0;31m     \u001b[0;32mfor\u001b[0m \u001b[0mplayer\u001b[0m \u001b[0;32min\u001b[0m \u001b[0mmongo_object\u001b[0m\u001b[0;34m[\u001b[0m\u001b[0;34m\"data\"\u001b[0m\u001b[0;34m]\u001b[0m\u001b[0;34m[\u001b[0m\u001b[0;34m\"participants\"\u001b[0m\u001b[0;34m]\u001b[0m\u001b[0;34m:\u001b[0m\u001b[0;34m\u001b[0m\u001b[0m\n\u001b[0m\u001b[1;32m      9\u001b[0m         \u001b[0mchamps\u001b[0m\u001b[0;34m.\u001b[0m\u001b[0mappend\u001b[0m\u001b[0;34m(\u001b[0m\u001b[0mplayer\u001b[0m\u001b[0;34m[\u001b[0m\u001b[0;34m\"championId\"\u001b[0m\u001b[0;34m]\u001b[0m\u001b[0;34m)\u001b[0m\u001b[0;34m\u001b[0m\u001b[0m\n\u001b[1;32m     10\u001b[0m     \u001b[0mallied_champions\u001b[0m\u001b[0;34m=\u001b[0m\u001b[0mchamps\u001b[0m\u001b[0;34m[\u001b[0m\u001b[0;34m:\u001b[0m\u001b[0;36m5\u001b[0m\u001b[0;34m]\u001b[0m\u001b[0;34m\u001b[0m\u001b[0m\n",
      "\u001b[0;31mKeyError\u001b[0m: 'participants'"
     ]
    }
   ],
   "source": [
    "for game in list(coll.find({\"done\":\"true\"}).limit(2000)):\n",
    "    new_row={}\n",
    "    new_row2={}\n",
    "    allied_champions,enemy_champions,winning_team = pull_champions_from_game_data(game)\n",
    "    \n",
    "    for champion_number in allied_champions:\n",
    "        new_row[champion_number_to_name(champion_number)]=1\n",
    "    for champion_number in enemy_champions:\n",
    "        new_row[champion_number_to_name(champion_number)+\"_enemy\"]=1\n",
    "    if winning_team==100:\n",
    "        new_row[\"win\"]=1\n",
    "    else:\n",
    "        new_row[\"win\"]=0\n",
    "    \n",
    "    for champion_number in enemy_champions:\n",
    "        new_row2[champion_number_to_name(champion_number)]=1\n",
    "    for champion_number in allied_champions:\n",
    "        new_row2[champion_number_to_name(champion_number)+\"_enemy\"]=1\n",
    "    if winning_team==200:\n",
    "        new_row2[\"win\"]=1\n",
    "    else:\n",
    "        new_row2[\"win\"]=0\n",
    "        \n",
    "        \n",
    "    df=df.append(new_row, ignore_index=True)\n",
    "    df=df.append(new_row2, ignore_index=True)\n",
    "    \n",
    "    \n",
    "    "
   ]
  },
  {
   "cell_type": "code",
   "execution_count": 21,
   "metadata": {
    "collapsed": true
   },
   "outputs": [],
   "source": [
    "def pull_champions_from_game_data(mongo_object):\n",
    "    \"\"\"Takes a dictionary stored in my mongodb.\n",
    "    Returns ordered lists of allied champions,\n",
    "    enemy champions, and the winning team id as an int.\n",
    "    \"\"\"\n",
    "    champs=[]\n",
    "    winning_team=0\n",
    "    try:\n",
    "        for player in mongo_object[\"data\"][\"participants\"]:\n",
    "            champs.append(player[\"championId\"])\n",
    "    except:\n",
    "        print mongo_object\n",
    "        print mongo_object[\"_id\"]\n",
    "    allied_champions=champs[:5]\n",
    "    enemy_champions=champs[5:]\n",
    "    if mongo_object[\"data\"][\"teams\"][0][\"win\"]==\"Fail\":\n",
    "        winning_team=100\n",
    "    else:\n",
    "        winning_team=200\n",
    "    return allied_champions,enemy_champions,winning_team\n",
    "        "
   ]
  },
  {
   "cell_type": "code",
   "execution_count": 106,
   "metadata": {},
   "outputs": [
    {
     "data": {
      "text/plain": [
       "([33, 115, 57, 412, 21], [15, 27, 91, 59, 40], 0)"
      ]
     },
     "execution_count": 106,
     "metadata": {},
     "output_type": "execute_result"
    }
   ],
   "source": [
    "pull_champions_from_game_data(test_game)"
   ]
  },
  {
   "cell_type": "code",
   "execution_count": 152,
   "metadata": {
    "collapsed": true
   },
   "outputs": [],
   "source": [
    "test_game=coll.find({\"done\":\"true\"}).limit(5)"
   ]
  },
  {
   "cell_type": "code",
   "execution_count": 138,
   "metadata": {},
   "outputs": [
    {
     "data": {
      "text/plain": [
       "u'Fail'"
      ]
     },
     "execution_count": 138,
     "metadata": {},
     "output_type": "execute_result"
    }
   ],
   "source": [
    "test_game[\"data\"][\"teams\"][0][\"win\"]"
   ]
  },
  {
   "cell_type": "code",
   "execution_count": 151,
   "metadata": {},
   "outputs": [
    {
     "data": {
      "text/plain": [
       "u'TOP'"
      ]
     },
     "execution_count": 151,
     "metadata": {},
     "output_type": "execute_result"
    }
   ],
   "source": [
    "test_game[\"data\"][\"participants\"][2][\"timeline\"][\"lane\"]"
   ]
  },
  {
   "cell_type": "code",
   "execution_count": 153,
   "metadata": {},
   "outputs": [
    {
     "name": "stdout",
     "output_type": "stream",
     "text": [
      "TOP\n",
      "MIDDLE\n",
      "BOTTOM\n",
      "BOTTOM\n",
      "TOP\n"
     ]
    }
   ],
   "source": [
    "for game in test_game:\n",
    "    print game[\"data\"][\"participants\"][2][\"timeline\"][\"lane\"]"
   ]
  },
  {
   "cell_type": "code",
   "execution_count": 54,
   "metadata": {
    "collapsed": true
   },
   "outputs": [],
   "source": [
    "df_storage=df.copy()"
   ]
  },
  {
   "cell_type": "code",
   "execution_count": 55,
   "metadata": {},
   "outputs": [
    {
     "data": {
      "text/plain": [
       "(50006, 277)"
      ]
     },
     "execution_count": 55,
     "metadata": {},
     "output_type": "execute_result"
    }
   ],
   "source": [
    "df_storage.shape"
   ]
  },
  {
   "cell_type": "code",
   "execution_count": 56,
   "metadata": {
    "collapsed": true
   },
   "outputs": [],
   "source": [
    "df=df.fillna(value=0)"
   ]
  },
  {
   "cell_type": "code",
   "execution_count": 57,
   "metadata": {
    "collapsed": true
   },
   "outputs": [],
   "source": [
    "dfy=np.array(df[\"win\"])\n",
    "dfx=np.array(df.drop(\"win\",axis=1))\n"
   ]
  },
  {
   "cell_type": "code",
   "execution_count": 58,
   "metadata": {},
   "outputs": [
    {
     "data": {
      "text/plain": [
       "((50006,), (50006, 276))"
      ]
     },
     "execution_count": 58,
     "metadata": {},
     "output_type": "execute_result"
    }
   ],
   "source": [
    "dfy.shape, dfx.shape"
   ]
  },
  {
   "cell_type": "code",
   "execution_count": 59,
   "metadata": {
    "collapsed": true
   },
   "outputs": [],
   "source": [
    "X_train, X_test, y_train, y_test = model_selection.train_test_split(dfx,dfy)"
   ]
  },
  {
   "cell_type": "code",
   "execution_count": 60,
   "metadata": {},
   "outputs": [
    {
     "data": {
      "text/plain": [
       "array([[ 0.,  0.,  0., ...,  0.,  0.,  0.],\n",
       "       [ 0.,  0.,  0., ...,  0.,  0.,  0.],\n",
       "       [ 0.,  0.,  0., ...,  0.,  0.,  0.],\n",
       "       ..., \n",
       "       [ 0.,  0.,  0., ...,  0.,  0.,  0.],\n",
       "       [ 0.,  0.,  0., ...,  0.,  0.,  0.],\n",
       "       [ 0.,  0.,  0., ...,  0.,  0.,  0.]])"
      ]
     },
     "execution_count": 60,
     "metadata": {},
     "output_type": "execute_result"
    }
   ],
   "source": [
    "X_train"
   ]
  },
  {
   "cell_type": "code",
   "execution_count": 109,
   "metadata": {
    "collapsed": true
   },
   "outputs": [],
   "source": [
    "model=RandomForestClassifier(n_estimators=200)"
   ]
  },
  {
   "cell_type": "code",
   "execution_count": 110,
   "metadata": {},
   "outputs": [
    {
     "data": {
      "text/plain": [
       "RandomForestClassifier(bootstrap=True, class_weight=None, criterion='gini',\n",
       "            max_depth=None, max_features='auto', max_leaf_nodes=None,\n",
       "            min_impurity_split=1e-07, min_samples_leaf=1,\n",
       "            min_samples_split=2, min_weight_fraction_leaf=0.0,\n",
       "            n_estimators=200, n_jobs=1, oob_score=False, random_state=None,\n",
       "            verbose=0, warm_start=False)"
      ]
     },
     "execution_count": 110,
     "metadata": {},
     "output_type": "execute_result"
    }
   ],
   "source": [
    "model.fit(X_train,y_train)"
   ]
  },
  {
   "cell_type": "code",
   "execution_count": 111,
   "metadata": {},
   "outputs": [
    {
     "data": {
      "text/plain": [
       "0.52695568709006557"
      ]
     },
     "execution_count": 111,
     "metadata": {},
     "output_type": "execute_result"
    }
   ],
   "source": [
    "model.score(X_test,y_test)"
   ]
  },
  {
   "cell_type": "code",
   "execution_count": null,
   "metadata": {
    "collapsed": true
   },
   "outputs": [],
   "source": []
  }
 ],
 "metadata": {
  "kernelspec": {
   "display_name": "Python 2",
   "language": "python",
   "name": "python2"
  },
  "language_info": {
   "codemirror_mode": {
    "name": "ipython",
    "version": 2
   },
   "file_extension": ".py",
   "mimetype": "text/x-python",
   "name": "python",
   "nbconvert_exporter": "python",
   "pygments_lexer": "ipython2",
   "version": "2.7.13"
  }
 },
 "nbformat": 4,
 "nbformat_minor": 2
}
