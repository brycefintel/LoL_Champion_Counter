{
 "cells": [
  {
   "cell_type": "code",
   "execution_count": 10,
   "metadata": {
    "collapsed": true
   },
   "outputs": [],
   "source": [
    "import pandas as pd\n",
    "import numpy as np\n",
    "import pymongo\n",
    "import requests\n",
    "import json\n",
    "import pickle\n",
    "from collections import defaultdict\n",
    "from collections import Counter"
   ]
  },
  {
   "cell_type": "code",
   "execution_count": 5,
   "metadata": {
    "collapsed": true
   },
   "outputs": [],
   "source": [
    "client = pymongo.MongoClient(\"mongodb://localhost:37017\" )\n",
    "db=client[\"lol\"]\n",
    "coll=db[\"match_data\"]"
   ]
  },
  {
   "cell_type": "code",
   "execution_count": 73,
   "metadata": {
    "collapsed": true
   },
   "outputs": [],
   "source": [
    "def pull_champions_from_game_data(mongo_object):\n",
    "    \"\"\"Takes a dictionary stored in my mongodb.\n",
    "    Returns ordered lists of allied champions,\n",
    "    enemy champions, and the winning team id as an int.\n",
    "    \"\"\"\n",
    "    champs=[]\n",
    "    winning_team=0\n",
    "    for player in mongo_object[\"data\"][\"participants\"]:\n",
    "        champs.append(player[\"championId\"])\n",
    "    allied_champions=champs[:5]\n",
    "    enemy_champions=champs[5:]\n",
    "    if mongo_object[\"data\"][\"teams\"][0][\"win\"]==\"Fail\":\n",
    "        winning_team=100\n",
    "    else:\n",
    "        winning_team=200\n",
    "    return allied_champions,enemy_champions,winning_team\n",
    "        "
   ]
  },
  {
   "cell_type": "code",
   "execution_count": 12,
   "metadata": {},
   "outputs": [],
   "source": [
    "champion_vs=Counter()"
   ]
  },
  {
   "cell_type": "code",
   "execution_count": 84,
   "metadata": {
    "collapsed": true
   },
   "outputs": [],
   "source": [
    "def count_matchups(allied_champions,enemy_champions,winning_team):\n",
    "    \"\"\"\n",
    "    Returns counter dict of how many times [key] matchup has occured\n",
    "    (4,7):3 == champion 4 has *matched against* champion 7 three times\n",
    "    and\n",
    "    Returns counter dict of how many times [key] matchup has resulted in a win\n",
    "    (4,7):3 == champion 4 has *won against* champion 7 three times\n",
    "    \"\"\"\n",
    "    matchups=Counter()\n",
    "    matchups_wins=Counter()\n",
    "    for champ in allied_champions:\n",
    "        for enemychamp in enemy_champions:\n",
    "            matchups[(champ,enemychamp)]+=1\n",
    "            if winning_team==100:\n",
    "                matchups_wins[(champ,enemychamp)]+=1\n",
    "    for champ in enemy_champions:\n",
    "        for enemychamp in allied_champions:\n",
    "            matchups[(champ,enemychamp)]+=1\n",
    "            if winning_team==200:\n",
    "                matchups_wins[(champ,enemychamp)]+=1\n",
    "    return matchups, matchups_wins"
   ]
  },
  {
   "cell_type": "code",
   "execution_count": 85,
   "metadata": {
    "collapsed": true
   },
   "outputs": [],
   "source": [
    "# def count_matchups_wins(allied_champions,enemy_champions,winning_team):\n",
    "#     \"\"\"Returns counter dict of how many times [key] matchup has resulted in a win\n",
    "#     (4,7):3 == champion 4 has *won against* champion 7 three times\n",
    "#     \"\"\"\n",
    "#     matchups=Counter()\n",
    "#     for champ in allied_champions:\n",
    "#         for enemychamp in enemy_champions:\n",
    "#             if winning_team==100:\n",
    "#                 matchups[(champ,enemychamp)]+=1\n",
    "#     for champ in enemy_champions:\n",
    "#         for enemychamp in allied_champions:\n",
    "#             if winning_team==200:\n",
    "#                 matchups[(champ,enemychamp)]+=1\n",
    "#     return matchups\n",
    "    "
   ]
  },
  {
   "cell_type": "code",
   "execution_count": 86,
   "metadata": {},
   "outputs": [],
   "source": [
    "def total_and_wins_for_matchup(iterable_games_data):\n",
    "    \"\"\"\n",
    "    Calls and aggregates results of count_matchups() over \n",
    "    iterable collection of games data.\n",
    "    Returns two counter dicts\n",
    "    \"\"\"\n",
    "    total_vs=Counter()\n",
    "    wins_vs=Counter()\n",
    "    for game in iterable_games_data:\n",
    "        matchups, matchups_wins=count_matchups(*pull_champions_from_game_data(game))\n",
    "        total_vs+=matchups\n",
    "        wins_vs+=matchups_wins\n",
    "    return total_vs,wins_vs"
   ]
  },
  {
   "cell_type": "code",
   "execution_count": 87,
   "metadata": {},
   "outputs": [],
   "source": [
    "total, wins = total_and_wins_for_matchup(coll.find({\"done\":\"true\"}).limit(20))"
   ]
  },
  {
   "cell_type": "code",
   "execution_count": 88,
   "metadata": {},
   "outputs": [
    {
     "data": {
      "text/plain": [
       "(1000, 500)"
      ]
     },
     "execution_count": 88,
     "metadata": {},
     "output_type": "execute_result"
    }
   ],
   "source": [
    "sum(total.values()),sum(wins.values())"
   ]
  },
  {
   "cell_type": "code",
   "execution_count": 89,
   "metadata": {
    "collapsed": true
   },
   "outputs": [],
   "source": [
    "def count_synergies(allied_champions,enemy_champions,winning_team):\n",
    "    \"\"\"\n",
    "    Returns counter dict of how many times [key] synergy has occured\n",
    "    (4,7):3 == champion 4 has *matched with* champion 7 three times\n",
    "    and\n",
    "    Returns counter dict of how many times [key] synergy has resulted in a win\n",
    "    (4,7):3 == champion 4 has *won with* champion 7 three times\n",
    "    \"\"\"\n",
    "    synergy=Counter()\n",
    "    synergy_wins=Counter()\n",
    "    for i,champ in enumerate(allied_champions):\n",
    "        for i2,champ2 in enumerate(allied_champions):\n",
    "            if i==i2:\n",
    "                continue\n",
    "            synergy[(champ,champ2)]+=1\n",
    "            if winning_team==100:\n",
    "                synergy_wins[(champ,champ2)]+=1\n",
    "    for i,champ in enumerate(enemy_champions):\n",
    "        for i2,champ2 in enumerate(enemy_champions):\n",
    "            if i==i2:\n",
    "                continue\n",
    "            synergy[(champ,champ2)]+=1\n",
    "            if winning_team==200:\n",
    "                synergy_wins[(champ,champ2)]+=1\n",
    "    return synergy,synergy_wins"
   ]
  },
  {
   "cell_type": "code",
   "execution_count": null,
   "metadata": {
    "collapsed": true
   },
   "outputs": [],
   "source": [
    "# def count_synergies_wins(allied_champions,enemy_champions,winning_team):\n",
    "#     \"\"\"Returns counter dict of how many times [key] synergy has resulted in a win\n",
    "#     (4,7):3 == champion 4 has *won with* champion 7 three times\n",
    "#     \"\"\"\n",
    "#     synergy=Counter()\n",
    "#     for i,champ in enumerate(allied_champions):\n",
    "#         for i2,champ2 in enumerate(allied_champions):\n",
    "#             if i==i2:\n",
    "#                 continue\n",
    "#             if winning_team==100:\n",
    "#                 synergy[(champ,champ2)]+=1\n",
    "#     for i,champ in enumerate(enemy_champions):\n",
    "#         for i2,champ2 in enumerate(enemy_champions):\n",
    "#             if i==i2:\n",
    "#                 continue\n",
    "#             if winning_team==200:\n",
    "#                 synergy[(champ,champ2)]+=1\n",
    "#     return synergy\n",
    "    "
   ]
  },
  {
   "cell_type": "code",
   "execution_count": 81,
   "metadata": {
    "collapsed": true
   },
   "outputs": [],
   "source": [
    "def total_and_wins_for_synergy(iterable_games_data):\n",
    "    \"\"\"\n",
    "    Calls and aggregates results of count_synergies() over \n",
    "    iterable collection of games data.\n",
    "    Returns two counter dicts\n",
    "    \"\"\"\n",
    "    total_synergy=Counter()\n",
    "    wins_synergy=Counter()\n",
    "    for game in iterable_games_data:\n",
    "        synergy,synergy_wins=count_synergies(*pull_champions_from_game_data(game))\n",
    "        total_synergy+=synergy\n",
    "        wins_synergy+=synergy_wins\n",
    "    return total_synergy,wins_synergy"
   ]
  },
  {
   "cell_type": "code",
   "execution_count": 82,
   "metadata": {},
   "outputs": [],
   "source": [
    "total_s,wins_s=total_and_wins_for_synergy(coll.find({\"done\":\"true\"}).limit(20))"
   ]
  },
  {
   "cell_type": "code",
   "execution_count": 83,
   "metadata": {},
   "outputs": [
    {
     "data": {
      "text/plain": [
       "800"
      ]
     },
     "execution_count": 83,
     "metadata": {},
     "output_type": "execute_result"
    }
   ],
   "source": [
    "sum(total_s.values())"
   ]
  },
  {
   "cell_type": "code",
   "execution_count": null,
   "metadata": {
    "collapsed": true
   },
   "outputs": [],
   "source": []
  }
 ],
 "metadata": {
  "kernelspec": {
   "display_name": "Python 2",
   "language": "python",
   "name": "python2"
  },
  "language_info": {
   "codemirror_mode": {
    "name": "ipython",
    "version": 2
   },
   "file_extension": ".py",
   "mimetype": "text/x-python",
   "name": "python",
   "nbconvert_exporter": "python",
   "pygments_lexer": "ipython2",
   "version": "2.7.13"
  }
 },
 "nbformat": 4,
 "nbformat_minor": 2
}
