{
 "cells": [
  {
   "cell_type": "code",
   "execution_count": 1,
   "metadata": {
    "collapsed": true
   },
   "outputs": [],
   "source": [
    "import boto3\n"
   ]
  },
  {
   "cell_type": "code",
   "execution_count": 8,
   "metadata": {},
   "outputs": [
    {
     "data": {
      "text/plain": [
       "{u'Location': 'http://lol.match.data.json.s3.amazonaws.com/',\n",
       " 'ResponseMetadata': {'HTTPHeaders': {'content-length': '0',\n",
       "   'date': 'Mon, 16 Oct 2017 21:22:41 GMT',\n",
       "   'location': 'http://lol.match.data.json.s3.amazonaws.com/',\n",
       "   'server': 'AmazonS3',\n",
       "   'x-amz-id-2': 'xSd90w9tM/wZpwvvf2m0CxoZLENsNcLc3wdayPnyMr2EZ1UJ9wiJOKSloDiCvQcoSrHMp1UK+Fg=',\n",
       "   'x-amz-request-id': '78DE2A6D7352DFC1'},\n",
       "  'HTTPStatusCode': 200,\n",
       "  'HostId': 'xSd90w9tM/wZpwvvf2m0CxoZLENsNcLc3wdayPnyMr2EZ1UJ9wiJOKSloDiCvQcoSrHMp1UK+Fg=',\n",
       "  'RequestId': '78DE2A6D7352DFC1',\n",
       "  'RetryAttempts': 0}}"
      ]
     },
     "execution_count": 8,
     "metadata": {},
     "output_type": "execute_result"
    }
   ],
   "source": [
    "\n",
    "s3 = boto3.client('s3')\n",
    "s3.create_bucket(Bucket='lol.match.data.json',CreateBucketConfiguration={\n",
    "          'LocationConstraint': 'us-west-2'})"
   ]
  },
  {
   "cell_type": "code",
   "execution_count": 6,
   "metadata": {},
   "outputs": [],
   "source": []
  },
  {
   "cell_type": "code",
   "execution_count": null,
   "metadata": {
    "collapsed": true
   },
   "outputs": [],
   "source": []
  }
 ],
 "metadata": {
  "kernelspec": {
   "display_name": "Python 2",
   "language": "python",
   "name": "python2"
  },
  "language_info": {
   "codemirror_mode": {
    "name": "ipython",
    "version": 2
   },
   "file_extension": ".py",
   "mimetype": "text/x-python",
   "name": "python",
   "nbconvert_exporter": "python",
   "pygments_lexer": "ipython2",
   "version": "2.7.13"
  }
 },
 "nbformat": 4,
 "nbformat_minor": 2
}
